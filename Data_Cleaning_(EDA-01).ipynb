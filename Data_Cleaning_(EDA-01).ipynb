{
 "cells": [
  {
   "cell_type": "code",
   "execution_count": 1,
   "id": "a99fb622",
   "metadata": {},
   "outputs": [],
   "source": [
    "import pandas as pd"
   ]
  },
  {
   "cell_type": "code",
   "execution_count": 2,
   "id": "28ef5c6b",
   "metadata": {},
   "outputs": [],
   "source": [
    "data_df = pd.read_csv('data_clean.csv')"
   ]
  },
  {
   "cell_type": "code",
   "execution_count": 3,
   "id": "842f0e5a",
   "metadata": {},
   "outputs": [
    {
     "data": {
      "text/html": [
       "<div>\n",
       "<style scoped>\n",
       "    .dataframe tbody tr th:only-of-type {\n",
       "        vertical-align: middle;\n",
       "    }\n",
       "\n",
       "    .dataframe tbody tr th {\n",
       "        vertical-align: top;\n",
       "    }\n",
       "\n",
       "    .dataframe thead th {\n",
       "        text-align: right;\n",
       "    }\n",
       "</style>\n",
       "<table border=\"1\" class=\"dataframe\">\n",
       "  <thead>\n",
       "    <tr style=\"text-align: right;\">\n",
       "      <th></th>\n",
       "      <th>Unnamed: 0</th>\n",
       "      <th>Ozone</th>\n",
       "      <th>Solar.R</th>\n",
       "      <th>Wind</th>\n",
       "      <th>Temp C</th>\n",
       "      <th>Month</th>\n",
       "      <th>Day</th>\n",
       "      <th>Year</th>\n",
       "      <th>Temp</th>\n",
       "      <th>Weather</th>\n",
       "    </tr>\n",
       "  </thead>\n",
       "  <tbody>\n",
       "    <tr>\n",
       "      <th>0</th>\n",
       "      <td>1</td>\n",
       "      <td>41.0</td>\n",
       "      <td>190.0</td>\n",
       "      <td>7.4</td>\n",
       "      <td>67</td>\n",
       "      <td>5</td>\n",
       "      <td>1</td>\n",
       "      <td>2010</td>\n",
       "      <td>67</td>\n",
       "      <td>S</td>\n",
       "    </tr>\n",
       "    <tr>\n",
       "      <th>1</th>\n",
       "      <td>2</td>\n",
       "      <td>36.0</td>\n",
       "      <td>118.0</td>\n",
       "      <td>8.0</td>\n",
       "      <td>72</td>\n",
       "      <td>5</td>\n",
       "      <td>2</td>\n",
       "      <td>2010</td>\n",
       "      <td>72</td>\n",
       "      <td>C</td>\n",
       "    </tr>\n",
       "    <tr>\n",
       "      <th>2</th>\n",
       "      <td>3</td>\n",
       "      <td>12.0</td>\n",
       "      <td>149.0</td>\n",
       "      <td>12.6</td>\n",
       "      <td>74</td>\n",
       "      <td>5</td>\n",
       "      <td>3</td>\n",
       "      <td>2010</td>\n",
       "      <td>74</td>\n",
       "      <td>PS</td>\n",
       "    </tr>\n",
       "    <tr>\n",
       "      <th>3</th>\n",
       "      <td>4</td>\n",
       "      <td>18.0</td>\n",
       "      <td>313.0</td>\n",
       "      <td>11.5</td>\n",
       "      <td>62</td>\n",
       "      <td>5</td>\n",
       "      <td>4</td>\n",
       "      <td>2010</td>\n",
       "      <td>62</td>\n",
       "      <td>S</td>\n",
       "    </tr>\n",
       "    <tr>\n",
       "      <th>4</th>\n",
       "      <td>5</td>\n",
       "      <td>NaN</td>\n",
       "      <td>NaN</td>\n",
       "      <td>14.3</td>\n",
       "      <td>56</td>\n",
       "      <td>5</td>\n",
       "      <td>5</td>\n",
       "      <td>2010</td>\n",
       "      <td>56</td>\n",
       "      <td>S</td>\n",
       "    </tr>\n",
       "  </tbody>\n",
       "</table>\n",
       "</div>"
      ],
      "text/plain": [
       "   Unnamed: 0  Ozone  Solar.R  Wind Temp C Month  Day  Year  Temp Weather\n",
       "0           1   41.0    190.0   7.4     67     5    1  2010    67       S\n",
       "1           2   36.0    118.0   8.0     72     5    2  2010    72       C\n",
       "2           3   12.0    149.0  12.6     74     5    3  2010    74      PS\n",
       "3           4   18.0    313.0  11.5     62     5    4  2010    62       S\n",
       "4           5    NaN      NaN  14.3     56     5    5  2010    56       S"
      ]
     },
     "execution_count": 3,
     "metadata": {},
     "output_type": "execute_result"
    }
   ],
   "source": [
    "data_df.head()"
   ]
  },
  {
   "cell_type": "code",
   "execution_count": 4,
   "id": "2204463f",
   "metadata": {},
   "outputs": [
    {
     "data": {
      "text/html": [
       "<div>\n",
       "<style scoped>\n",
       "    .dataframe tbody tr th:only-of-type {\n",
       "        vertical-align: middle;\n",
       "    }\n",
       "\n",
       "    .dataframe tbody tr th {\n",
       "        vertical-align: top;\n",
       "    }\n",
       "\n",
       "    .dataframe thead th {\n",
       "        text-align: right;\n",
       "    }\n",
       "</style>\n",
       "<table border=\"1\" class=\"dataframe\">\n",
       "  <thead>\n",
       "    <tr style=\"text-align: right;\">\n",
       "      <th></th>\n",
       "      <th>Unnamed: 0</th>\n",
       "      <th>Ozone</th>\n",
       "      <th>Solar.R</th>\n",
       "      <th>Wind</th>\n",
       "      <th>Temp C</th>\n",
       "      <th>Month</th>\n",
       "      <th>Day</th>\n",
       "      <th>Year</th>\n",
       "      <th>Temp</th>\n",
       "      <th>Weather</th>\n",
       "    </tr>\n",
       "  </thead>\n",
       "  <tbody>\n",
       "    <tr>\n",
       "      <th>0</th>\n",
       "      <td>1</td>\n",
       "      <td>41.0</td>\n",
       "      <td>190.0</td>\n",
       "      <td>7.4</td>\n",
       "      <td>67</td>\n",
       "      <td>5</td>\n",
       "      <td>1</td>\n",
       "      <td>2010</td>\n",
       "      <td>67</td>\n",
       "      <td>S</td>\n",
       "    </tr>\n",
       "    <tr>\n",
       "      <th>1</th>\n",
       "      <td>2</td>\n",
       "      <td>36.0</td>\n",
       "      <td>118.0</td>\n",
       "      <td>8.0</td>\n",
       "      <td>72</td>\n",
       "      <td>5</td>\n",
       "      <td>2</td>\n",
       "      <td>2010</td>\n",
       "      <td>72</td>\n",
       "      <td>C</td>\n",
       "    </tr>\n",
       "    <tr>\n",
       "      <th>2</th>\n",
       "      <td>3</td>\n",
       "      <td>12.0</td>\n",
       "      <td>149.0</td>\n",
       "      <td>12.6</td>\n",
       "      <td>74</td>\n",
       "      <td>5</td>\n",
       "      <td>3</td>\n",
       "      <td>2010</td>\n",
       "      <td>74</td>\n",
       "      <td>PS</td>\n",
       "    </tr>\n",
       "    <tr>\n",
       "      <th>3</th>\n",
       "      <td>4</td>\n",
       "      <td>18.0</td>\n",
       "      <td>313.0</td>\n",
       "      <td>11.5</td>\n",
       "      <td>62</td>\n",
       "      <td>5</td>\n",
       "      <td>4</td>\n",
       "      <td>2010</td>\n",
       "      <td>62</td>\n",
       "      <td>S</td>\n",
       "    </tr>\n",
       "    <tr>\n",
       "      <th>4</th>\n",
       "      <td>5</td>\n",
       "      <td>NaN</td>\n",
       "      <td>NaN</td>\n",
       "      <td>14.3</td>\n",
       "      <td>56</td>\n",
       "      <td>5</td>\n",
       "      <td>5</td>\n",
       "      <td>2010</td>\n",
       "      <td>56</td>\n",
       "      <td>S</td>\n",
       "    </tr>\n",
       "    <tr>\n",
       "      <th>...</th>\n",
       "      <td>...</td>\n",
       "      <td>...</td>\n",
       "      <td>...</td>\n",
       "      <td>...</td>\n",
       "      <td>...</td>\n",
       "      <td>...</td>\n",
       "      <td>...</td>\n",
       "      <td>...</td>\n",
       "      <td>...</td>\n",
       "      <td>...</td>\n",
       "    </tr>\n",
       "    <tr>\n",
       "      <th>153</th>\n",
       "      <td>154</td>\n",
       "      <td>41.0</td>\n",
       "      <td>190.0</td>\n",
       "      <td>7.4</td>\n",
       "      <td>67</td>\n",
       "      <td>5</td>\n",
       "      <td>1</td>\n",
       "      <td>2010</td>\n",
       "      <td>67</td>\n",
       "      <td>C</td>\n",
       "    </tr>\n",
       "    <tr>\n",
       "      <th>154</th>\n",
       "      <td>155</td>\n",
       "      <td>30.0</td>\n",
       "      <td>193.0</td>\n",
       "      <td>6.9</td>\n",
       "      <td>70</td>\n",
       "      <td>9</td>\n",
       "      <td>26</td>\n",
       "      <td>2010</td>\n",
       "      <td>70</td>\n",
       "      <td>PS</td>\n",
       "    </tr>\n",
       "    <tr>\n",
       "      <th>155</th>\n",
       "      <td>156</td>\n",
       "      <td>NaN</td>\n",
       "      <td>145.0</td>\n",
       "      <td>13.2</td>\n",
       "      <td>77</td>\n",
       "      <td>9</td>\n",
       "      <td>27</td>\n",
       "      <td>2010</td>\n",
       "      <td>77</td>\n",
       "      <td>S</td>\n",
       "    </tr>\n",
       "    <tr>\n",
       "      <th>156</th>\n",
       "      <td>157</td>\n",
       "      <td>14.0</td>\n",
       "      <td>191.0</td>\n",
       "      <td>14.3</td>\n",
       "      <td>75</td>\n",
       "      <td>9</td>\n",
       "      <td>28</td>\n",
       "      <td>2010</td>\n",
       "      <td>75</td>\n",
       "      <td>S</td>\n",
       "    </tr>\n",
       "    <tr>\n",
       "      <th>157</th>\n",
       "      <td>158</td>\n",
       "      <td>18.0</td>\n",
       "      <td>131.0</td>\n",
       "      <td>8.0</td>\n",
       "      <td>76</td>\n",
       "      <td>9</td>\n",
       "      <td>29</td>\n",
       "      <td>2010</td>\n",
       "      <td>76</td>\n",
       "      <td>C</td>\n",
       "    </tr>\n",
       "  </tbody>\n",
       "</table>\n",
       "<p>158 rows × 10 columns</p>\n",
       "</div>"
      ],
      "text/plain": [
       "     Unnamed: 0  Ozone  Solar.R  Wind Temp C Month  Day  Year  Temp Weather\n",
       "0             1   41.0    190.0   7.4     67     5    1  2010    67       S\n",
       "1             2   36.0    118.0   8.0     72     5    2  2010    72       C\n",
       "2             3   12.0    149.0  12.6     74     5    3  2010    74      PS\n",
       "3             4   18.0    313.0  11.5     62     5    4  2010    62       S\n",
       "4             5    NaN      NaN  14.3     56     5    5  2010    56       S\n",
       "..          ...    ...      ...   ...    ...   ...  ...   ...   ...     ...\n",
       "153         154   41.0    190.0   7.4     67     5    1  2010    67       C\n",
       "154         155   30.0    193.0   6.9     70     9   26  2010    70      PS\n",
       "155         156    NaN    145.0  13.2     77     9   27  2010    77       S\n",
       "156         157   14.0    191.0  14.3     75     9   28  2010    75       S\n",
       "157         158   18.0    131.0   8.0     76     9   29  2010    76       C\n",
       "\n",
       "[158 rows x 10 columns]"
      ]
     },
     "execution_count": 4,
     "metadata": {},
     "output_type": "execute_result"
    }
   ],
   "source": [
    "data_df"
   ]
  },
  {
   "cell_type": "code",
   "execution_count": 5,
   "id": "7c46954e",
   "metadata": {},
   "outputs": [
    {
     "data": {
      "text/plain": [
       "(158, 10)"
      ]
     },
     "execution_count": 5,
     "metadata": {},
     "output_type": "execute_result"
    }
   ],
   "source": [
    "data_df.shape"
   ]
  },
  {
   "cell_type": "code",
   "execution_count": 6,
   "id": "c6764654",
   "metadata": {},
   "outputs": [
    {
     "data": {
      "text/html": [
       "<div>\n",
       "<style scoped>\n",
       "    .dataframe tbody tr th:only-of-type {\n",
       "        vertical-align: middle;\n",
       "    }\n",
       "\n",
       "    .dataframe tbody tr th {\n",
       "        vertical-align: top;\n",
       "    }\n",
       "\n",
       "    .dataframe thead th {\n",
       "        text-align: right;\n",
       "    }\n",
       "</style>\n",
       "<table border=\"1\" class=\"dataframe\">\n",
       "  <thead>\n",
       "    <tr style=\"text-align: right;\">\n",
       "      <th></th>\n",
       "      <th>Unnamed: 0</th>\n",
       "      <th>Ozone</th>\n",
       "      <th>Solar.R</th>\n",
       "      <th>Wind</th>\n",
       "      <th>Temp C</th>\n",
       "      <th>Month</th>\n",
       "      <th>Day</th>\n",
       "      <th>Year</th>\n",
       "      <th>Temp</th>\n",
       "      <th>Weather</th>\n",
       "    </tr>\n",
       "  </thead>\n",
       "  <tbody>\n",
       "    <tr>\n",
       "      <th>153</th>\n",
       "      <td>154</td>\n",
       "      <td>41.0</td>\n",
       "      <td>190.0</td>\n",
       "      <td>7.4</td>\n",
       "      <td>67</td>\n",
       "      <td>5</td>\n",
       "      <td>1</td>\n",
       "      <td>2010</td>\n",
       "      <td>67</td>\n",
       "      <td>C</td>\n",
       "    </tr>\n",
       "    <tr>\n",
       "      <th>154</th>\n",
       "      <td>155</td>\n",
       "      <td>30.0</td>\n",
       "      <td>193.0</td>\n",
       "      <td>6.9</td>\n",
       "      <td>70</td>\n",
       "      <td>9</td>\n",
       "      <td>26</td>\n",
       "      <td>2010</td>\n",
       "      <td>70</td>\n",
       "      <td>PS</td>\n",
       "    </tr>\n",
       "    <tr>\n",
       "      <th>155</th>\n",
       "      <td>156</td>\n",
       "      <td>NaN</td>\n",
       "      <td>145.0</td>\n",
       "      <td>13.2</td>\n",
       "      <td>77</td>\n",
       "      <td>9</td>\n",
       "      <td>27</td>\n",
       "      <td>2010</td>\n",
       "      <td>77</td>\n",
       "      <td>S</td>\n",
       "    </tr>\n",
       "    <tr>\n",
       "      <th>156</th>\n",
       "      <td>157</td>\n",
       "      <td>14.0</td>\n",
       "      <td>191.0</td>\n",
       "      <td>14.3</td>\n",
       "      <td>75</td>\n",
       "      <td>9</td>\n",
       "      <td>28</td>\n",
       "      <td>2010</td>\n",
       "      <td>75</td>\n",
       "      <td>S</td>\n",
       "    </tr>\n",
       "    <tr>\n",
       "      <th>157</th>\n",
       "      <td>158</td>\n",
       "      <td>18.0</td>\n",
       "      <td>131.0</td>\n",
       "      <td>8.0</td>\n",
       "      <td>76</td>\n",
       "      <td>9</td>\n",
       "      <td>29</td>\n",
       "      <td>2010</td>\n",
       "      <td>76</td>\n",
       "      <td>C</td>\n",
       "    </tr>\n",
       "  </tbody>\n",
       "</table>\n",
       "</div>"
      ],
      "text/plain": [
       "     Unnamed: 0  Ozone  Solar.R  Wind Temp C Month  Day  Year  Temp Weather\n",
       "153         154   41.0    190.0   7.4     67     5    1  2010    67       C\n",
       "154         155   30.0    193.0   6.9     70     9   26  2010    70      PS\n",
       "155         156    NaN    145.0  13.2     77     9   27  2010    77       S\n",
       "156         157   14.0    191.0  14.3     75     9   28  2010    75       S\n",
       "157         158   18.0    131.0   8.0     76     9   29  2010    76       C"
      ]
     },
     "execution_count": 6,
     "metadata": {},
     "output_type": "execute_result"
    }
   ],
   "source": [
    "data_df.tail()"
   ]
  },
  {
   "cell_type": "code",
   "execution_count": 7,
   "id": "dea03902",
   "metadata": {},
   "outputs": [
    {
     "name": "stdout",
     "output_type": "stream",
     "text": [
      "<class 'pandas.core.frame.DataFrame'>\n",
      "RangeIndex: 158 entries, 0 to 157\n",
      "Data columns (total 10 columns):\n",
      " #   Column      Non-Null Count  Dtype  \n",
      "---  ------      --------------  -----  \n",
      " 0   Unnamed: 0  158 non-null    int64  \n",
      " 1   Ozone       120 non-null    float64\n",
      " 2   Solar.R     151 non-null    float64\n",
      " 3   Wind        158 non-null    float64\n",
      " 4   Temp C      158 non-null    object \n",
      " 5   Month       158 non-null    object \n",
      " 6   Day         158 non-null    int64  \n",
      " 7   Year        158 non-null    int64  \n",
      " 8   Temp        158 non-null    int64  \n",
      " 9   Weather     155 non-null    object \n",
      "dtypes: float64(3), int64(4), object(3)\n",
      "memory usage: 12.5+ KB\n"
     ]
    }
   ],
   "source": [
    "data_df.info()"
   ]
  },
  {
   "cell_type": "code",
   "execution_count": 8,
   "id": "4de526c8",
   "metadata": {},
   "outputs": [
    {
     "data": {
      "text/plain": [
       "38"
      ]
     },
     "execution_count": 8,
     "metadata": {},
     "output_type": "execute_result"
    }
   ],
   "source": [
    "sum(data_df['Ozone'].isnull())"
   ]
  },
  {
   "cell_type": "code",
   "execution_count": 9,
   "id": "8685166d",
   "metadata": {},
   "outputs": [
    {
     "data": {
      "text/plain": [
       "count    120.000000\n",
       "mean      41.583333\n",
       "std       32.620709\n",
       "min        1.000000\n",
       "25%       18.000000\n",
       "50%       30.500000\n",
       "75%       61.500000\n",
       "max      168.000000\n",
       "Name: Ozone, dtype: float64"
      ]
     },
     "execution_count": 9,
     "metadata": {},
     "output_type": "execute_result"
    }
   ],
   "source": [
    "data_df['Ozone'].describe()"
   ]
  },
  {
   "cell_type": "code",
   "execution_count": 10,
   "id": "ea8d58dc",
   "metadata": {},
   "outputs": [
    {
     "data": {
      "text/html": [
       "<div>\n",
       "<style scoped>\n",
       "    .dataframe tbody tr th:only-of-type {\n",
       "        vertical-align: middle;\n",
       "    }\n",
       "\n",
       "    .dataframe tbody tr th {\n",
       "        vertical-align: top;\n",
       "    }\n",
       "\n",
       "    .dataframe thead th {\n",
       "        text-align: right;\n",
       "    }\n",
       "</style>\n",
       "<table border=\"1\" class=\"dataframe\">\n",
       "  <thead>\n",
       "    <tr style=\"text-align: right;\">\n",
       "      <th></th>\n",
       "      <th>Unnamed: 0</th>\n",
       "      <th>Ozone</th>\n",
       "      <th>Solar.R</th>\n",
       "      <th>Wind</th>\n",
       "      <th>Day</th>\n",
       "      <th>Year</th>\n",
       "      <th>Temp</th>\n",
       "    </tr>\n",
       "  </thead>\n",
       "  <tbody>\n",
       "    <tr>\n",
       "      <th>count</th>\n",
       "      <td>158.000000</td>\n",
       "      <td>120.000000</td>\n",
       "      <td>151.000000</td>\n",
       "      <td>158.000000</td>\n",
       "      <td>158.000000</td>\n",
       "      <td>158.0</td>\n",
       "      <td>158.000000</td>\n",
       "    </tr>\n",
       "    <tr>\n",
       "      <th>mean</th>\n",
       "      <td>79.500000</td>\n",
       "      <td>41.583333</td>\n",
       "      <td>185.403974</td>\n",
       "      <td>9.957595</td>\n",
       "      <td>16.006329</td>\n",
       "      <td>2010.0</td>\n",
       "      <td>77.727848</td>\n",
       "    </tr>\n",
       "    <tr>\n",
       "      <th>std</th>\n",
       "      <td>45.754781</td>\n",
       "      <td>32.620709</td>\n",
       "      <td>88.723103</td>\n",
       "      <td>3.511261</td>\n",
       "      <td>8.997166</td>\n",
       "      <td>0.0</td>\n",
       "      <td>9.377877</td>\n",
       "    </tr>\n",
       "    <tr>\n",
       "      <th>min</th>\n",
       "      <td>1.000000</td>\n",
       "      <td>1.000000</td>\n",
       "      <td>7.000000</td>\n",
       "      <td>1.700000</td>\n",
       "      <td>1.000000</td>\n",
       "      <td>2010.0</td>\n",
       "      <td>56.000000</td>\n",
       "    </tr>\n",
       "    <tr>\n",
       "      <th>25%</th>\n",
       "      <td>40.250000</td>\n",
       "      <td>18.000000</td>\n",
       "      <td>119.000000</td>\n",
       "      <td>7.400000</td>\n",
       "      <td>8.000000</td>\n",
       "      <td>2010.0</td>\n",
       "      <td>72.000000</td>\n",
       "    </tr>\n",
       "    <tr>\n",
       "      <th>50%</th>\n",
       "      <td>79.500000</td>\n",
       "      <td>30.500000</td>\n",
       "      <td>197.000000</td>\n",
       "      <td>9.700000</td>\n",
       "      <td>16.000000</td>\n",
       "      <td>2010.0</td>\n",
       "      <td>78.500000</td>\n",
       "    </tr>\n",
       "    <tr>\n",
       "      <th>75%</th>\n",
       "      <td>118.750000</td>\n",
       "      <td>61.500000</td>\n",
       "      <td>257.000000</td>\n",
       "      <td>11.875000</td>\n",
       "      <td>24.000000</td>\n",
       "      <td>2010.0</td>\n",
       "      <td>84.000000</td>\n",
       "    </tr>\n",
       "    <tr>\n",
       "      <th>max</th>\n",
       "      <td>158.000000</td>\n",
       "      <td>168.000000</td>\n",
       "      <td>334.000000</td>\n",
       "      <td>20.700000</td>\n",
       "      <td>31.000000</td>\n",
       "      <td>2010.0</td>\n",
       "      <td>97.000000</td>\n",
       "    </tr>\n",
       "  </tbody>\n",
       "</table>\n",
       "</div>"
      ],
      "text/plain": [
       "       Unnamed: 0       Ozone     Solar.R        Wind         Day    Year  \\\n",
       "count  158.000000  120.000000  151.000000  158.000000  158.000000   158.0   \n",
       "mean    79.500000   41.583333  185.403974    9.957595   16.006329  2010.0   \n",
       "std     45.754781   32.620709   88.723103    3.511261    8.997166     0.0   \n",
       "min      1.000000    1.000000    7.000000    1.700000    1.000000  2010.0   \n",
       "25%     40.250000   18.000000  119.000000    7.400000    8.000000  2010.0   \n",
       "50%     79.500000   30.500000  197.000000    9.700000   16.000000  2010.0   \n",
       "75%    118.750000   61.500000  257.000000   11.875000   24.000000  2010.0   \n",
       "max    158.000000  168.000000  334.000000   20.700000   31.000000  2010.0   \n",
       "\n",
       "             Temp  \n",
       "count  158.000000  \n",
       "mean    77.727848  \n",
       "std      9.377877  \n",
       "min     56.000000  \n",
       "25%     72.000000  \n",
       "50%     78.500000  \n",
       "75%     84.000000  \n",
       "max     97.000000  "
      ]
     },
     "execution_count": 10,
     "metadata": {},
     "output_type": "execute_result"
    }
   ],
   "source": [
    "data_df.describe()"
   ]
  },
  {
   "cell_type": "code",
   "execution_count": 11,
   "id": "3fdb3626",
   "metadata": {},
   "outputs": [
    {
     "data": {
      "text/plain": [
       "Unnamed: 0      int64\n",
       "Ozone         float64\n",
       "Solar.R       float64\n",
       "Wind          float64\n",
       "Temp C         object\n",
       "Month          object\n",
       "Day             int64\n",
       "Year            int64\n",
       "Temp            int64\n",
       "Weather        object\n",
       "dtype: object"
      ]
     },
     "execution_count": 11,
     "metadata": {},
     "output_type": "execute_result"
    }
   ],
   "source": [
    "data_df.dtypes"
   ]
  },
  {
   "cell_type": "markdown",
   "id": "58ffa9cf",
   "metadata": {},
   "source": [
    "# Starting Data Cleaning"
   ]
  },
  {
   "cell_type": "code",
   "execution_count": 12,
   "id": "9ee10731",
   "metadata": {},
   "outputs": [],
   "source": [
    "# first column is index so we want to remove it. we store all columns in seprate variable except index column\n",
    "#new_var = var.iloc[:, 1:]  #all rows and from 1st column to all column\n",
    "\n",
    "#or we can use drop() method, but for sefty we before using drop(), we copy all the data into new variabe.\n",
    "#new_var = var.drop('Column_name', axis = 0 or 1) 1 = columns\n",
    "#new_var = var.drop(var.columns[i], axis = 1)  put column index at the place of i rest is same\n",
    "\n",
    "#or we can set column 1 as an index\n",
    "#var = var.set_index(pd.DatetimeIndex(var['column name']))"
   ]
  },
  {
   "cell_type": "code",
   "execution_count": 13,
   "id": "fffde96d",
   "metadata": {},
   "outputs": [],
   "source": [
    "data_df_1 = data_df.copy() #coping in new var so i can use dropna on new var"
   ]
  },
  {
   "cell_type": "code",
   "execution_count": 14,
   "id": "d4d97ba6",
   "metadata": {},
   "outputs": [
    {
     "data": {
      "text/html": [
       "<div>\n",
       "<style scoped>\n",
       "    .dataframe tbody tr th:only-of-type {\n",
       "        vertical-align: middle;\n",
       "    }\n",
       "\n",
       "    .dataframe tbody tr th {\n",
       "        vertical-align: top;\n",
       "    }\n",
       "\n",
       "    .dataframe thead th {\n",
       "        text-align: right;\n",
       "    }\n",
       "</style>\n",
       "<table border=\"1\" class=\"dataframe\">\n",
       "  <thead>\n",
       "    <tr style=\"text-align: right;\">\n",
       "      <th></th>\n",
       "      <th>Unnamed: 0</th>\n",
       "      <th>Ozone</th>\n",
       "      <th>Solar.R</th>\n",
       "      <th>Wind</th>\n",
       "      <th>Temp C</th>\n",
       "      <th>Month</th>\n",
       "      <th>Day</th>\n",
       "      <th>Year</th>\n",
       "      <th>Temp</th>\n",
       "      <th>Weather</th>\n",
       "    </tr>\n",
       "  </thead>\n",
       "  <tbody>\n",
       "    <tr>\n",
       "      <th>0</th>\n",
       "      <td>1</td>\n",
       "      <td>41.0</td>\n",
       "      <td>190.0</td>\n",
       "      <td>7.4</td>\n",
       "      <td>67</td>\n",
       "      <td>5</td>\n",
       "      <td>1</td>\n",
       "      <td>2010</td>\n",
       "      <td>67</td>\n",
       "      <td>S</td>\n",
       "    </tr>\n",
       "    <tr>\n",
       "      <th>1</th>\n",
       "      <td>2</td>\n",
       "      <td>36.0</td>\n",
       "      <td>118.0</td>\n",
       "      <td>8.0</td>\n",
       "      <td>72</td>\n",
       "      <td>5</td>\n",
       "      <td>2</td>\n",
       "      <td>2010</td>\n",
       "      <td>72</td>\n",
       "      <td>C</td>\n",
       "    </tr>\n",
       "    <tr>\n",
       "      <th>2</th>\n",
       "      <td>3</td>\n",
       "      <td>12.0</td>\n",
       "      <td>149.0</td>\n",
       "      <td>12.6</td>\n",
       "      <td>74</td>\n",
       "      <td>5</td>\n",
       "      <td>3</td>\n",
       "      <td>2010</td>\n",
       "      <td>74</td>\n",
       "      <td>PS</td>\n",
       "    </tr>\n",
       "    <tr>\n",
       "      <th>3</th>\n",
       "      <td>4</td>\n",
       "      <td>18.0</td>\n",
       "      <td>313.0</td>\n",
       "      <td>11.5</td>\n",
       "      <td>62</td>\n",
       "      <td>5</td>\n",
       "      <td>4</td>\n",
       "      <td>2010</td>\n",
       "      <td>62</td>\n",
       "      <td>S</td>\n",
       "    </tr>\n",
       "    <tr>\n",
       "      <th>4</th>\n",
       "      <td>5</td>\n",
       "      <td>NaN</td>\n",
       "      <td>NaN</td>\n",
       "      <td>14.3</td>\n",
       "      <td>56</td>\n",
       "      <td>5</td>\n",
       "      <td>5</td>\n",
       "      <td>2010</td>\n",
       "      <td>56</td>\n",
       "      <td>S</td>\n",
       "    </tr>\n",
       "    <tr>\n",
       "      <th>...</th>\n",
       "      <td>...</td>\n",
       "      <td>...</td>\n",
       "      <td>...</td>\n",
       "      <td>...</td>\n",
       "      <td>...</td>\n",
       "      <td>...</td>\n",
       "      <td>...</td>\n",
       "      <td>...</td>\n",
       "      <td>...</td>\n",
       "      <td>...</td>\n",
       "    </tr>\n",
       "    <tr>\n",
       "      <th>153</th>\n",
       "      <td>154</td>\n",
       "      <td>41.0</td>\n",
       "      <td>190.0</td>\n",
       "      <td>7.4</td>\n",
       "      <td>67</td>\n",
       "      <td>5</td>\n",
       "      <td>1</td>\n",
       "      <td>2010</td>\n",
       "      <td>67</td>\n",
       "      <td>C</td>\n",
       "    </tr>\n",
       "    <tr>\n",
       "      <th>154</th>\n",
       "      <td>155</td>\n",
       "      <td>30.0</td>\n",
       "      <td>193.0</td>\n",
       "      <td>6.9</td>\n",
       "      <td>70</td>\n",
       "      <td>9</td>\n",
       "      <td>26</td>\n",
       "      <td>2010</td>\n",
       "      <td>70</td>\n",
       "      <td>PS</td>\n",
       "    </tr>\n",
       "    <tr>\n",
       "      <th>155</th>\n",
       "      <td>156</td>\n",
       "      <td>NaN</td>\n",
       "      <td>145.0</td>\n",
       "      <td>13.2</td>\n",
       "      <td>77</td>\n",
       "      <td>9</td>\n",
       "      <td>27</td>\n",
       "      <td>2010</td>\n",
       "      <td>77</td>\n",
       "      <td>S</td>\n",
       "    </tr>\n",
       "    <tr>\n",
       "      <th>156</th>\n",
       "      <td>157</td>\n",
       "      <td>14.0</td>\n",
       "      <td>191.0</td>\n",
       "      <td>14.3</td>\n",
       "      <td>75</td>\n",
       "      <td>9</td>\n",
       "      <td>28</td>\n",
       "      <td>2010</td>\n",
       "      <td>75</td>\n",
       "      <td>S</td>\n",
       "    </tr>\n",
       "    <tr>\n",
       "      <th>157</th>\n",
       "      <td>158</td>\n",
       "      <td>18.0</td>\n",
       "      <td>131.0</td>\n",
       "      <td>8.0</td>\n",
       "      <td>76</td>\n",
       "      <td>9</td>\n",
       "      <td>29</td>\n",
       "      <td>2010</td>\n",
       "      <td>76</td>\n",
       "      <td>C</td>\n",
       "    </tr>\n",
       "  </tbody>\n",
       "</table>\n",
       "<p>158 rows × 10 columns</p>\n",
       "</div>"
      ],
      "text/plain": [
       "     Unnamed: 0  Ozone  Solar.R  Wind Temp C Month  Day  Year  Temp Weather\n",
       "0             1   41.0    190.0   7.4     67     5    1  2010    67       S\n",
       "1             2   36.0    118.0   8.0     72     5    2  2010    72       C\n",
       "2             3   12.0    149.0  12.6     74     5    3  2010    74      PS\n",
       "3             4   18.0    313.0  11.5     62     5    4  2010    62       S\n",
       "4             5    NaN      NaN  14.3     56     5    5  2010    56       S\n",
       "..          ...    ...      ...   ...    ...   ...  ...   ...   ...     ...\n",
       "153         154   41.0    190.0   7.4     67     5    1  2010    67       C\n",
       "154         155   30.0    193.0   6.9     70     9   26  2010    70      PS\n",
       "155         156    NaN    145.0  13.2     77     9   27  2010    77       S\n",
       "156         157   14.0    191.0  14.3     75     9   28  2010    75       S\n",
       "157         158   18.0    131.0   8.0     76     9   29  2010    76       C\n",
       "\n",
       "[158 rows x 10 columns]"
      ]
     },
     "execution_count": 14,
     "metadata": {},
     "output_type": "execute_result"
    }
   ],
   "source": [
    "data_df_1"
   ]
  },
  {
   "cell_type": "code",
   "execution_count": 15,
   "id": "e1fafce7",
   "metadata": {},
   "outputs": [
    {
     "data": {
      "text/html": [
       "<div>\n",
       "<style scoped>\n",
       "    .dataframe tbody tr th:only-of-type {\n",
       "        vertical-align: middle;\n",
       "    }\n",
       "\n",
       "    .dataframe tbody tr th {\n",
       "        vertical-align: top;\n",
       "    }\n",
       "\n",
       "    .dataframe thead th {\n",
       "        text-align: right;\n",
       "    }\n",
       "</style>\n",
       "<table border=\"1\" class=\"dataframe\">\n",
       "  <thead>\n",
       "    <tr style=\"text-align: right;\">\n",
       "      <th></th>\n",
       "      <th>Unnamed: 0</th>\n",
       "      <th>Ozone</th>\n",
       "      <th>Solar.R</th>\n",
       "      <th>Wind</th>\n",
       "      <th>Temp C</th>\n",
       "      <th>Month</th>\n",
       "      <th>Day</th>\n",
       "      <th>Year</th>\n",
       "      <th>Temp</th>\n",
       "      <th>Weather</th>\n",
       "    </tr>\n",
       "  </thead>\n",
       "  <tbody>\n",
       "    <tr>\n",
       "      <th>0</th>\n",
       "      <td>1</td>\n",
       "      <td>41.0</td>\n",
       "      <td>190.0</td>\n",
       "      <td>7.4</td>\n",
       "      <td>67</td>\n",
       "      <td>5</td>\n",
       "      <td>1</td>\n",
       "      <td>2010</td>\n",
       "      <td>67</td>\n",
       "      <td>S</td>\n",
       "    </tr>\n",
       "    <tr>\n",
       "      <th>1</th>\n",
       "      <td>2</td>\n",
       "      <td>36.0</td>\n",
       "      <td>118.0</td>\n",
       "      <td>8.0</td>\n",
       "      <td>72</td>\n",
       "      <td>5</td>\n",
       "      <td>2</td>\n",
       "      <td>2010</td>\n",
       "      <td>72</td>\n",
       "      <td>C</td>\n",
       "    </tr>\n",
       "    <tr>\n",
       "      <th>2</th>\n",
       "      <td>3</td>\n",
       "      <td>12.0</td>\n",
       "      <td>149.0</td>\n",
       "      <td>12.6</td>\n",
       "      <td>74</td>\n",
       "      <td>5</td>\n",
       "      <td>3</td>\n",
       "      <td>2010</td>\n",
       "      <td>74</td>\n",
       "      <td>PS</td>\n",
       "    </tr>\n",
       "    <tr>\n",
       "      <th>3</th>\n",
       "      <td>4</td>\n",
       "      <td>18.0</td>\n",
       "      <td>313.0</td>\n",
       "      <td>11.5</td>\n",
       "      <td>62</td>\n",
       "      <td>5</td>\n",
       "      <td>4</td>\n",
       "      <td>2010</td>\n",
       "      <td>62</td>\n",
       "      <td>S</td>\n",
       "    </tr>\n",
       "    <tr>\n",
       "      <th>4</th>\n",
       "      <td>5</td>\n",
       "      <td>NaN</td>\n",
       "      <td>NaN</td>\n",
       "      <td>14.3</td>\n",
       "      <td>56</td>\n",
       "      <td>5</td>\n",
       "      <td>5</td>\n",
       "      <td>2010</td>\n",
       "      <td>56</td>\n",
       "      <td>S</td>\n",
       "    </tr>\n",
       "    <tr>\n",
       "      <th>...</th>\n",
       "      <td>...</td>\n",
       "      <td>...</td>\n",
       "      <td>...</td>\n",
       "      <td>...</td>\n",
       "      <td>...</td>\n",
       "      <td>...</td>\n",
       "      <td>...</td>\n",
       "      <td>...</td>\n",
       "      <td>...</td>\n",
       "      <td>...</td>\n",
       "    </tr>\n",
       "    <tr>\n",
       "      <th>153</th>\n",
       "      <td>154</td>\n",
       "      <td>41.0</td>\n",
       "      <td>190.0</td>\n",
       "      <td>7.4</td>\n",
       "      <td>67</td>\n",
       "      <td>5</td>\n",
       "      <td>1</td>\n",
       "      <td>2010</td>\n",
       "      <td>67</td>\n",
       "      <td>C</td>\n",
       "    </tr>\n",
       "    <tr>\n",
       "      <th>154</th>\n",
       "      <td>155</td>\n",
       "      <td>30.0</td>\n",
       "      <td>193.0</td>\n",
       "      <td>6.9</td>\n",
       "      <td>70</td>\n",
       "      <td>9</td>\n",
       "      <td>26</td>\n",
       "      <td>2010</td>\n",
       "      <td>70</td>\n",
       "      <td>PS</td>\n",
       "    </tr>\n",
       "    <tr>\n",
       "      <th>155</th>\n",
       "      <td>156</td>\n",
       "      <td>NaN</td>\n",
       "      <td>145.0</td>\n",
       "      <td>13.2</td>\n",
       "      <td>77</td>\n",
       "      <td>9</td>\n",
       "      <td>27</td>\n",
       "      <td>2010</td>\n",
       "      <td>77</td>\n",
       "      <td>S</td>\n",
       "    </tr>\n",
       "    <tr>\n",
       "      <th>156</th>\n",
       "      <td>157</td>\n",
       "      <td>14.0</td>\n",
       "      <td>191.0</td>\n",
       "      <td>14.3</td>\n",
       "      <td>75</td>\n",
       "      <td>9</td>\n",
       "      <td>28</td>\n",
       "      <td>2010</td>\n",
       "      <td>75</td>\n",
       "      <td>S</td>\n",
       "    </tr>\n",
       "    <tr>\n",
       "      <th>157</th>\n",
       "      <td>158</td>\n",
       "      <td>18.0</td>\n",
       "      <td>131.0</td>\n",
       "      <td>8.0</td>\n",
       "      <td>76</td>\n",
       "      <td>9</td>\n",
       "      <td>29</td>\n",
       "      <td>2010</td>\n",
       "      <td>76</td>\n",
       "      <td>C</td>\n",
       "    </tr>\n",
       "  </tbody>\n",
       "</table>\n",
       "<p>158 rows × 10 columns</p>\n",
       "</div>"
      ],
      "text/plain": [
       "     Unnamed: 0  Ozone  Solar.R  Wind Temp C Month  Day  Year  Temp Weather\n",
       "0             1   41.0    190.0   7.4     67     5    1  2010    67       S\n",
       "1             2   36.0    118.0   8.0     72     5    2  2010    72       C\n",
       "2             3   12.0    149.0  12.6     74     5    3  2010    74      PS\n",
       "3             4   18.0    313.0  11.5     62     5    4  2010    62       S\n",
       "4             5    NaN      NaN  14.3     56     5    5  2010    56       S\n",
       "..          ...    ...      ...   ...    ...   ...  ...   ...   ...     ...\n",
       "153         154   41.0    190.0   7.4     67     5    1  2010    67       C\n",
       "154         155   30.0    193.0   6.9     70     9   26  2010    70      PS\n",
       "155         156    NaN    145.0  13.2     77     9   27  2010    77       S\n",
       "156         157   14.0    191.0  14.3     75     9   28  2010    75       S\n",
       "157         158   18.0    131.0   8.0     76     9   29  2010    76       C\n",
       "\n",
       "[158 rows x 10 columns]"
      ]
     },
     "execution_count": 15,
     "metadata": {},
     "output_type": "execute_result"
    }
   ],
   "source": [
    "data_df_1"
   ]
  },
  {
   "cell_type": "code",
   "execution_count": 16,
   "id": "87fee615",
   "metadata": {},
   "outputs": [],
   "source": [
    "data_df_1 = data_df_1.drop(data_df_1.columns[0], axis = 1)\n",
    "#deleting unmaned column"
   ]
  },
  {
   "cell_type": "code",
   "execution_count": 17,
   "id": "50bca079",
   "metadata": {},
   "outputs": [
    {
     "data": {
      "text/html": [
       "<div>\n",
       "<style scoped>\n",
       "    .dataframe tbody tr th:only-of-type {\n",
       "        vertical-align: middle;\n",
       "    }\n",
       "\n",
       "    .dataframe tbody tr th {\n",
       "        vertical-align: top;\n",
       "    }\n",
       "\n",
       "    .dataframe thead th {\n",
       "        text-align: right;\n",
       "    }\n",
       "</style>\n",
       "<table border=\"1\" class=\"dataframe\">\n",
       "  <thead>\n",
       "    <tr style=\"text-align: right;\">\n",
       "      <th></th>\n",
       "      <th>Ozone</th>\n",
       "      <th>Solar.R</th>\n",
       "      <th>Wind</th>\n",
       "      <th>Temp C</th>\n",
       "      <th>Month</th>\n",
       "      <th>Day</th>\n",
       "      <th>Year</th>\n",
       "      <th>Temp</th>\n",
       "      <th>Weather</th>\n",
       "    </tr>\n",
       "  </thead>\n",
       "  <tbody>\n",
       "    <tr>\n",
       "      <th>0</th>\n",
       "      <td>41.0</td>\n",
       "      <td>190.0</td>\n",
       "      <td>7.4</td>\n",
       "      <td>67</td>\n",
       "      <td>5</td>\n",
       "      <td>1</td>\n",
       "      <td>2010</td>\n",
       "      <td>67</td>\n",
       "      <td>S</td>\n",
       "    </tr>\n",
       "    <tr>\n",
       "      <th>1</th>\n",
       "      <td>36.0</td>\n",
       "      <td>118.0</td>\n",
       "      <td>8.0</td>\n",
       "      <td>72</td>\n",
       "      <td>5</td>\n",
       "      <td>2</td>\n",
       "      <td>2010</td>\n",
       "      <td>72</td>\n",
       "      <td>C</td>\n",
       "    </tr>\n",
       "    <tr>\n",
       "      <th>2</th>\n",
       "      <td>12.0</td>\n",
       "      <td>149.0</td>\n",
       "      <td>12.6</td>\n",
       "      <td>74</td>\n",
       "      <td>5</td>\n",
       "      <td>3</td>\n",
       "      <td>2010</td>\n",
       "      <td>74</td>\n",
       "      <td>PS</td>\n",
       "    </tr>\n",
       "    <tr>\n",
       "      <th>3</th>\n",
       "      <td>18.0</td>\n",
       "      <td>313.0</td>\n",
       "      <td>11.5</td>\n",
       "      <td>62</td>\n",
       "      <td>5</td>\n",
       "      <td>4</td>\n",
       "      <td>2010</td>\n",
       "      <td>62</td>\n",
       "      <td>S</td>\n",
       "    </tr>\n",
       "    <tr>\n",
       "      <th>4</th>\n",
       "      <td>NaN</td>\n",
       "      <td>NaN</td>\n",
       "      <td>14.3</td>\n",
       "      <td>56</td>\n",
       "      <td>5</td>\n",
       "      <td>5</td>\n",
       "      <td>2010</td>\n",
       "      <td>56</td>\n",
       "      <td>S</td>\n",
       "    </tr>\n",
       "    <tr>\n",
       "      <th>...</th>\n",
       "      <td>...</td>\n",
       "      <td>...</td>\n",
       "      <td>...</td>\n",
       "      <td>...</td>\n",
       "      <td>...</td>\n",
       "      <td>...</td>\n",
       "      <td>...</td>\n",
       "      <td>...</td>\n",
       "      <td>...</td>\n",
       "    </tr>\n",
       "    <tr>\n",
       "      <th>153</th>\n",
       "      <td>41.0</td>\n",
       "      <td>190.0</td>\n",
       "      <td>7.4</td>\n",
       "      <td>67</td>\n",
       "      <td>5</td>\n",
       "      <td>1</td>\n",
       "      <td>2010</td>\n",
       "      <td>67</td>\n",
       "      <td>C</td>\n",
       "    </tr>\n",
       "    <tr>\n",
       "      <th>154</th>\n",
       "      <td>30.0</td>\n",
       "      <td>193.0</td>\n",
       "      <td>6.9</td>\n",
       "      <td>70</td>\n",
       "      <td>9</td>\n",
       "      <td>26</td>\n",
       "      <td>2010</td>\n",
       "      <td>70</td>\n",
       "      <td>PS</td>\n",
       "    </tr>\n",
       "    <tr>\n",
       "      <th>155</th>\n",
       "      <td>NaN</td>\n",
       "      <td>145.0</td>\n",
       "      <td>13.2</td>\n",
       "      <td>77</td>\n",
       "      <td>9</td>\n",
       "      <td>27</td>\n",
       "      <td>2010</td>\n",
       "      <td>77</td>\n",
       "      <td>S</td>\n",
       "    </tr>\n",
       "    <tr>\n",
       "      <th>156</th>\n",
       "      <td>14.0</td>\n",
       "      <td>191.0</td>\n",
       "      <td>14.3</td>\n",
       "      <td>75</td>\n",
       "      <td>9</td>\n",
       "      <td>28</td>\n",
       "      <td>2010</td>\n",
       "      <td>75</td>\n",
       "      <td>S</td>\n",
       "    </tr>\n",
       "    <tr>\n",
       "      <th>157</th>\n",
       "      <td>18.0</td>\n",
       "      <td>131.0</td>\n",
       "      <td>8.0</td>\n",
       "      <td>76</td>\n",
       "      <td>9</td>\n",
       "      <td>29</td>\n",
       "      <td>2010</td>\n",
       "      <td>76</td>\n",
       "      <td>C</td>\n",
       "    </tr>\n",
       "  </tbody>\n",
       "</table>\n",
       "<p>158 rows × 9 columns</p>\n",
       "</div>"
      ],
      "text/plain": [
       "     Ozone  Solar.R  Wind Temp C Month  Day  Year  Temp Weather\n",
       "0     41.0    190.0   7.4     67     5    1  2010    67       S\n",
       "1     36.0    118.0   8.0     72     5    2  2010    72       C\n",
       "2     12.0    149.0  12.6     74     5    3  2010    74      PS\n",
       "3     18.0    313.0  11.5     62     5    4  2010    62       S\n",
       "4      NaN      NaN  14.3     56     5    5  2010    56       S\n",
       "..     ...      ...   ...    ...   ...  ...   ...   ...     ...\n",
       "153   41.0    190.0   7.4     67     5    1  2010    67       C\n",
       "154   30.0    193.0   6.9     70     9   26  2010    70      PS\n",
       "155    NaN    145.0  13.2     77     9   27  2010    77       S\n",
       "156   14.0    191.0  14.3     75     9   28  2010    75       S\n",
       "157   18.0    131.0   8.0     76     9   29  2010    76       C\n",
       "\n",
       "[158 rows x 9 columns]"
      ]
     },
     "execution_count": 17,
     "metadata": {},
     "output_type": "execute_result"
    }
   ],
   "source": [
    "data_df_1"
   ]
  },
  {
   "cell_type": "code",
   "execution_count": 18,
   "id": "c0eea36d",
   "metadata": {},
   "outputs": [
    {
     "name": "stdout",
     "output_type": "stream",
     "text": [
      "<class 'pandas.core.frame.DataFrame'>\n",
      "RangeIndex: 158 entries, 0 to 157\n",
      "Data columns (total 9 columns):\n",
      " #   Column   Non-Null Count  Dtype  \n",
      "---  ------   --------------  -----  \n",
      " 0   Ozone    120 non-null    float64\n",
      " 1   Solar.R  151 non-null    float64\n",
      " 2   Wind     158 non-null    float64\n",
      " 3   Temp C   158 non-null    object \n",
      " 4   Month    158 non-null    object \n",
      " 5   Day      158 non-null    int64  \n",
      " 6   Year     158 non-null    int64  \n",
      " 7   Temp     158 non-null    int64  \n",
      " 8   Weather  155 non-null    object \n",
      "dtypes: float64(3), int64(3), object(3)\n",
      "memory usage: 11.2+ KB\n"
     ]
    }
   ],
   "source": [
    "data_df_1.info()"
   ]
  },
  {
   "cell_type": "code",
   "execution_count": 19,
   "id": "e89bdf89",
   "metadata": {},
   "outputs": [],
   "source": [
    "#we will try to conver Month column data type into numeric "
   ]
  },
  {
   "cell_type": "markdown",
   "id": "84ca6510",
   "metadata": {},
   "source": [
    "#### For Month Column"
   ]
  },
  {
   "cell_type": "code",
   "execution_count": 20,
   "id": "bdd2cddd",
   "metadata": {},
   "outputs": [],
   "source": [
    "#data_df_1['Month'] = pd.to_numeric(data_df_1['Month'])\n",
    "#read the error"
   ]
  },
  {
   "cell_type": "code",
   "execution_count": 21,
   "id": "a67ca277",
   "metadata": {},
   "outputs": [
    {
     "data": {
      "text/plain": [
       "array(['5', '5', '5', '5', '5', '5', '5', '5', '5', '5', '5', '5', '5',\n",
       "       '5', '5', '5', '5', '5', '5', '5', '5', '5', '5', 'May', '5', '5',\n",
       "       '5', '5', '5', '5', '5', '6', '6', '6', '6', '6', '6', '6', '6',\n",
       "       '6', '6', '6', '6', '6', '6', '6', '6', '6', '6', '6', '6', '6',\n",
       "       '6', '6', '6', '6', '6', '6', '6', '6', '6', '7', '7', '7', '7',\n",
       "       '7', '7', '7', '7', '7', '7', '7', '7', '7', '7', '7', '7', '7',\n",
       "       '7', '7', '7', '7', '7', '7', '7', '7', '7', '7', '7', '7', '7',\n",
       "       '7', '8', '8', '8', '8', '8', '8', '8', '8', '8', '8', '8', '8',\n",
       "       '8', '8', '8', '8', '8', '8', '8', '8', '8', '8', '8', '8', '8',\n",
       "       '8', '8', '8', '8', '8', '8', '9', '9', '9', '9', '9', '9', '9',\n",
       "       '9', '9', '9', '9', '9', '9', '9', '9', '9', '9', '9', '9', '9',\n",
       "       '9', '9', '9', '9', '9', '9', '9', '9', '9', '9', '5', '9', '9',\n",
       "       '9', '9'], dtype=object)"
      ]
     },
     "execution_count": 21,
     "metadata": {},
     "output_type": "execute_result"
    }
   ],
   "source": [
    "data_df_1['Month'].values\n",
    "#in output there is one value which is not numeric"
   ]
  },
  {
   "cell_type": "code",
   "execution_count": 22,
   "id": "7e08ced3",
   "metadata": {
    "scrolled": true
   },
   "outputs": [
    {
     "data": {
      "text/html": [
       "<div>\n",
       "<style scoped>\n",
       "    .dataframe tbody tr th:only-of-type {\n",
       "        vertical-align: middle;\n",
       "    }\n",
       "\n",
       "    .dataframe tbody tr th {\n",
       "        vertical-align: top;\n",
       "    }\n",
       "\n",
       "    .dataframe thead th {\n",
       "        text-align: right;\n",
       "    }\n",
       "</style>\n",
       "<table border=\"1\" class=\"dataframe\">\n",
       "  <thead>\n",
       "    <tr style=\"text-align: right;\">\n",
       "      <th></th>\n",
       "      <th>Ozone</th>\n",
       "      <th>Solar.R</th>\n",
       "      <th>Wind</th>\n",
       "      <th>Temp C</th>\n",
       "      <th>Month</th>\n",
       "      <th>Day</th>\n",
       "      <th>Year</th>\n",
       "      <th>Temp</th>\n",
       "      <th>Weather</th>\n",
       "    </tr>\n",
       "  </thead>\n",
       "  <tbody>\n",
       "    <tr>\n",
       "      <th>0</th>\n",
       "      <td>41.0</td>\n",
       "      <td>190.0</td>\n",
       "      <td>7.4</td>\n",
       "      <td>67</td>\n",
       "      <td>5.0</td>\n",
       "      <td>1</td>\n",
       "      <td>2010</td>\n",
       "      <td>67</td>\n",
       "      <td>S</td>\n",
       "    </tr>\n",
       "    <tr>\n",
       "      <th>1</th>\n",
       "      <td>36.0</td>\n",
       "      <td>118.0</td>\n",
       "      <td>8.0</td>\n",
       "      <td>72</td>\n",
       "      <td>5.0</td>\n",
       "      <td>2</td>\n",
       "      <td>2010</td>\n",
       "      <td>72</td>\n",
       "      <td>C</td>\n",
       "    </tr>\n",
       "    <tr>\n",
       "      <th>2</th>\n",
       "      <td>12.0</td>\n",
       "      <td>149.0</td>\n",
       "      <td>12.6</td>\n",
       "      <td>74</td>\n",
       "      <td>5.0</td>\n",
       "      <td>3</td>\n",
       "      <td>2010</td>\n",
       "      <td>74</td>\n",
       "      <td>PS</td>\n",
       "    </tr>\n",
       "    <tr>\n",
       "      <th>3</th>\n",
       "      <td>18.0</td>\n",
       "      <td>313.0</td>\n",
       "      <td>11.5</td>\n",
       "      <td>62</td>\n",
       "      <td>5.0</td>\n",
       "      <td>4</td>\n",
       "      <td>2010</td>\n",
       "      <td>62</td>\n",
       "      <td>S</td>\n",
       "    </tr>\n",
       "    <tr>\n",
       "      <th>4</th>\n",
       "      <td>NaN</td>\n",
       "      <td>NaN</td>\n",
       "      <td>14.3</td>\n",
       "      <td>56</td>\n",
       "      <td>5.0</td>\n",
       "      <td>5</td>\n",
       "      <td>2010</td>\n",
       "      <td>56</td>\n",
       "      <td>S</td>\n",
       "    </tr>\n",
       "    <tr>\n",
       "      <th>...</th>\n",
       "      <td>...</td>\n",
       "      <td>...</td>\n",
       "      <td>...</td>\n",
       "      <td>...</td>\n",
       "      <td>...</td>\n",
       "      <td>...</td>\n",
       "      <td>...</td>\n",
       "      <td>...</td>\n",
       "      <td>...</td>\n",
       "    </tr>\n",
       "    <tr>\n",
       "      <th>153</th>\n",
       "      <td>41.0</td>\n",
       "      <td>190.0</td>\n",
       "      <td>7.4</td>\n",
       "      <td>67</td>\n",
       "      <td>5.0</td>\n",
       "      <td>1</td>\n",
       "      <td>2010</td>\n",
       "      <td>67</td>\n",
       "      <td>C</td>\n",
       "    </tr>\n",
       "    <tr>\n",
       "      <th>154</th>\n",
       "      <td>30.0</td>\n",
       "      <td>193.0</td>\n",
       "      <td>6.9</td>\n",
       "      <td>70</td>\n",
       "      <td>9.0</td>\n",
       "      <td>26</td>\n",
       "      <td>2010</td>\n",
       "      <td>70</td>\n",
       "      <td>PS</td>\n",
       "    </tr>\n",
       "    <tr>\n",
       "      <th>155</th>\n",
       "      <td>NaN</td>\n",
       "      <td>145.0</td>\n",
       "      <td>13.2</td>\n",
       "      <td>77</td>\n",
       "      <td>9.0</td>\n",
       "      <td>27</td>\n",
       "      <td>2010</td>\n",
       "      <td>77</td>\n",
       "      <td>S</td>\n",
       "    </tr>\n",
       "    <tr>\n",
       "      <th>156</th>\n",
       "      <td>14.0</td>\n",
       "      <td>191.0</td>\n",
       "      <td>14.3</td>\n",
       "      <td>75</td>\n",
       "      <td>9.0</td>\n",
       "      <td>28</td>\n",
       "      <td>2010</td>\n",
       "      <td>75</td>\n",
       "      <td>S</td>\n",
       "    </tr>\n",
       "    <tr>\n",
       "      <th>157</th>\n",
       "      <td>18.0</td>\n",
       "      <td>131.0</td>\n",
       "      <td>8.0</td>\n",
       "      <td>76</td>\n",
       "      <td>9.0</td>\n",
       "      <td>29</td>\n",
       "      <td>2010</td>\n",
       "      <td>76</td>\n",
       "      <td>C</td>\n",
       "    </tr>\n",
       "  </tbody>\n",
       "</table>\n",
       "<p>158 rows × 9 columns</p>\n",
       "</div>"
      ],
      "text/plain": [
       "     Ozone  Solar.R  Wind Temp C  Month  Day  Year  Temp Weather\n",
       "0     41.0    190.0   7.4     67    5.0    1  2010    67       S\n",
       "1     36.0    118.0   8.0     72    5.0    2  2010    72       C\n",
       "2     12.0    149.0  12.6     74    5.0    3  2010    74      PS\n",
       "3     18.0    313.0  11.5     62    5.0    4  2010    62       S\n",
       "4      NaN      NaN  14.3     56    5.0    5  2010    56       S\n",
       "..     ...      ...   ...    ...    ...  ...   ...   ...     ...\n",
       "153   41.0    190.0   7.4     67    5.0    1  2010    67       C\n",
       "154   30.0    193.0   6.9     70    9.0   26  2010    70      PS\n",
       "155    NaN    145.0  13.2     77    9.0   27  2010    77       S\n",
       "156   14.0    191.0  14.3     75    9.0   28  2010    75       S\n",
       "157   18.0    131.0   8.0     76    9.0   29  2010    76       C\n",
       "\n",
       "[158 rows x 9 columns]"
      ]
     },
     "execution_count": 22,
     "metadata": {},
     "output_type": "execute_result"
    }
   ],
   "source": [
    "data_df_1['Month'] = pd.to_numeric(data_df_1['Month'], errors='coerce')\n",
    "data_df_1\n",
    "#we didnt get error coz errors = 'coerce' meance if error occurs convert that cell into null value and goto next cell"
   ]
  },
  {
   "cell_type": "code",
   "execution_count": 23,
   "id": "41cfaedf",
   "metadata": {},
   "outputs": [
    {
     "data": {
      "text/plain": [
       "array([ 5.,  5.,  5.,  5.,  5.,  5.,  5.,  5.,  5.,  5.,  5.,  5.,  5.,\n",
       "        5.,  5.,  5.,  5.,  5.,  5.,  5.,  5.,  5.,  5., nan,  5.,  5.,\n",
       "        5.,  5.,  5.,  5.,  5.,  6.,  6.,  6.,  6.,  6.,  6.,  6.,  6.,\n",
       "        6.,  6.,  6.,  6.,  6.,  6.,  6.,  6.,  6.,  6.,  6.,  6.,  6.,\n",
       "        6.,  6.,  6.,  6.,  6.,  6.,  6.,  6.,  6.,  7.,  7.,  7.,  7.,\n",
       "        7.,  7.,  7.,  7.,  7.,  7.,  7.,  7.,  7.,  7.,  7.,  7.,  7.,\n",
       "        7.,  7.,  7.,  7.,  7.,  7.,  7.,  7.,  7.,  7.,  7.,  7.,  7.,\n",
       "        7.,  8.,  8.,  8.,  8.,  8.,  8.,  8.,  8.,  8.,  8.,  8.,  8.,\n",
       "        8.,  8.,  8.,  8.,  8.,  8.,  8.,  8.,  8.,  8.,  8.,  8.,  8.,\n",
       "        8.,  8.,  8.,  8.,  8.,  8.,  9.,  9.,  9.,  9.,  9.,  9.,  9.,\n",
       "        9.,  9.,  9.,  9.,  9.,  9.,  9.,  9.,  9.,  9.,  9.,  9.,  9.,\n",
       "        9.,  9.,  9.,  9.,  9.,  9.,  9.,  9.,  9.,  9.,  5.,  9.,  9.,\n",
       "        9.,  9.])"
      ]
     },
     "execution_count": 23,
     "metadata": {},
     "output_type": "execute_result"
    }
   ],
   "source": [
    "data_df_1['Month'].values\n",
    "#checking the action taken by above command\n",
    "#May convert into nan which is = null"
   ]
  },
  {
   "cell_type": "code",
   "execution_count": 24,
   "id": "7eba51b6",
   "metadata": {},
   "outputs": [
    {
     "name": "stdout",
     "output_type": "stream",
     "text": [
      "<class 'pandas.core.frame.DataFrame'>\n",
      "RangeIndex: 158 entries, 0 to 157\n",
      "Data columns (total 9 columns):\n",
      " #   Column   Non-Null Count  Dtype  \n",
      "---  ------   --------------  -----  \n",
      " 0   Ozone    120 non-null    float64\n",
      " 1   Solar.R  151 non-null    float64\n",
      " 2   Wind     158 non-null    float64\n",
      " 3   Temp C   158 non-null    object \n",
      " 4   Month    157 non-null    float64\n",
      " 5   Day      158 non-null    int64  \n",
      " 6   Year     158 non-null    int64  \n",
      " 7   Temp     158 non-null    int64  \n",
      " 8   Weather  155 non-null    object \n",
      "dtypes: float64(4), int64(3), object(2)\n",
      "memory usage: 11.2+ KB\n"
     ]
    }
   ],
   "source": [
    "data_df_1.info()\n",
    "#checking Month Dtype"
   ]
  },
  {
   "cell_type": "code",
   "execution_count": 25,
   "id": "97f3e856",
   "metadata": {},
   "outputs": [
    {
     "data": {
      "text/plain": [
       "dtype('float64')"
      ]
     },
     "execution_count": 25,
     "metadata": {},
     "output_type": "execute_result"
    }
   ],
   "source": [
    "data_df_1['Month'].dtypes\n",
    "#or i can check this way also"
   ]
  },
  {
   "cell_type": "markdown",
   "id": "0abc97e7",
   "metadata": {},
   "source": [
    "### for Temp C column"
   ]
  },
  {
   "cell_type": "code",
   "execution_count": 26,
   "id": "bb58f1e2",
   "metadata": {},
   "outputs": [],
   "source": [
    "#data_df_1['Temp C'] = pd.to_numeric(data_df_1['Temp C'])\n",
    "#read error and try errors = 'coerce'"
   ]
  },
  {
   "cell_type": "code",
   "execution_count": 27,
   "id": "fcbee3ff",
   "metadata": {},
   "outputs": [],
   "source": [
    "data_df_1['Temp C'] = pd.to_numeric(data_df_1['Temp C'], errors = 'coerce')\n",
    "#same as above but using force"
   ]
  },
  {
   "cell_type": "code",
   "execution_count": 28,
   "id": "22a87c88",
   "metadata": {},
   "outputs": [
    {
     "data": {
      "text/plain": [
       "array([67., 72., 74., 62., 56., 66., 65., 59., 61., 69., nan, 69., 66.,\n",
       "       68., 58., 64., 66., 57., 68., 62., 59., 73., 61., 61., 57., 58.,\n",
       "       57., 67., 81., 79., 76., 78., 74., 67., 84., 85., 79., 82., 87.,\n",
       "       90., 87., 93., 92., 82., 80., 79., 77., 72., 65., 73., 76., 77.,\n",
       "       76., 76., 76., 75., 78., 73., 80., 77., 83., 84., 85., 81., 84.,\n",
       "       83., 83., 88., 92., 92., 89., 82., 73., 81., 91., 80., 81., 82.,\n",
       "       84., 87., 85., 74., 81., 82., 86., 85., 82., 86., 88., 86., 83.,\n",
       "       81., 81., 81., 82., 86., 85., 87., 89., 90., 90., 92., 86., 86.,\n",
       "       82., 80., 79., 77., 79., 76., 78., 78., 77., 72., 75., 79., 81.,\n",
       "       86., 88., 97., 94., 96., 94., 91., 92., 93., 93., 87., 84., 80.,\n",
       "       78., 75., 73., 81., 76., 77., 71., 71., 78., 67., 76., 68., 82.,\n",
       "       64., 71., 81., 69., 63., 70., 77., 75., 76., 68., 67., 70., 77.,\n",
       "       75., 76.])"
      ]
     },
     "execution_count": 28,
     "metadata": {},
     "output_type": "execute_result"
    }
   ],
   "source": [
    "data_df_1['Temp C'].values"
   ]
  },
  {
   "cell_type": "code",
   "execution_count": 29,
   "id": "d493734c",
   "metadata": {},
   "outputs": [
    {
     "name": "stdout",
     "output_type": "stream",
     "text": [
      "<class 'pandas.core.frame.DataFrame'>\n",
      "RangeIndex: 158 entries, 0 to 157\n",
      "Data columns (total 9 columns):\n",
      " #   Column   Non-Null Count  Dtype  \n",
      "---  ------   --------------  -----  \n",
      " 0   Ozone    120 non-null    float64\n",
      " 1   Solar.R  151 non-null    float64\n",
      " 2   Wind     158 non-null    float64\n",
      " 3   Temp C   157 non-null    float64\n",
      " 4   Month    157 non-null    float64\n",
      " 5   Day      158 non-null    int64  \n",
      " 6   Year     158 non-null    int64  \n",
      " 7   Temp     158 non-null    int64  \n",
      " 8   Weather  155 non-null    object \n",
      "dtypes: float64(5), int64(3), object(1)\n",
      "memory usage: 11.2+ KB\n"
     ]
    }
   ],
   "source": [
    "data_df_1.info()"
   ]
  },
  {
   "cell_type": "code",
   "execution_count": 30,
   "id": "92224892",
   "metadata": {},
   "outputs": [
    {
     "data": {
      "text/plain": [
       "dtype('float64')"
      ]
     },
     "execution_count": 30,
     "metadata": {},
     "output_type": "execute_result"
    }
   ],
   "source": [
    "data_df_1['Temp C'].dtypes"
   ]
  },
  {
   "cell_type": "markdown",
   "id": "622795d5",
   "metadata": {},
   "source": [
    "### For weather column"
   ]
  },
  {
   "cell_type": "code",
   "execution_count": 31,
   "id": "16d418d1",
   "metadata": {},
   "outputs": [],
   "source": [
    "#wheater column contain char values still it shows at objects, so we need to conver it into char"
   ]
  },
  {
   "cell_type": "code",
   "execution_count": 32,
   "id": "f617d3a9",
   "metadata": {},
   "outputs": [
    {
     "data": {
      "text/plain": [
       "array(['S', 'C', 'PS', 'S', 'S', 'C', 'PS', 'C', 'PS', 'S', 'C', 'PS',\n",
       "       'S', 'S', 'C', 'S', 'S', 'C', 'PS', 'S', 'S', 'C', 'PS', 'C', 'PS',\n",
       "       'C', 'PS', 'S', 'S', 'C', 'PS', 'S', 'C', 'PS', 'C', 'PS', 'C',\n",
       "       'PS', 'S', 'S', 'S', 'C', 'PS', 'S', 'S', 'C', 'PS', 'C', 'PS',\n",
       "       'S', 'S', 'S', 'C', 'PS', 'S', 'C', 'PS', 'C', 'PS', 'S', 'S', 'S',\n",
       "       'C', 'PS', 'S', 'S', 'C', 'C', 'PS', 'C', 'PS', 'S', 'S', 'S', 'C',\n",
       "       'PS', 'S', 'S', 'C', 'PS', 'C', 'S', 'S', 'C', 'PS', 'PS', 'C',\n",
       "       nan, 'S', 'C', 'PS', 'C', 'PS', nan, 'PS', nan, 'S', 'C', 'C',\n",
       "       'PS', 'C', 'PS', 'S', 'S', 'S', 'C', 'C', 'C', 'PS', 'C', 'PS',\n",
       "       'S', 'S', 'C', 'PS', 'C', 'PS', 'S', 'S', 'S', 'S', 'S', 'C', 'C',\n",
       "       'PS', 'C', 'PS', 'S', 'S', 'S', 'C', 'PS', 'C', 'PS', 'S', 'S',\n",
       "       'PS', 'PS', 'S', 'PS', 'S', 'C', 'PS', 'PS', 'S', 'S', 'C', 'PS',\n",
       "       'C', 'PS', 'S', 'PS', 'S', 'C', 'PS', 'S', 'S', 'C'], dtype=object)"
      ]
     },
     "execution_count": 32,
     "metadata": {},
     "output_type": "execute_result"
    }
   ],
   "source": [
    "data_df_1['Weather'].values"
   ]
  },
  {
   "cell_type": "code",
   "execution_count": 33,
   "id": "701ea264",
   "metadata": {},
   "outputs": [],
   "source": [
    "data_df_1['Weather'] = data_df_1['Weather'].astype('category')\n",
    "#to convert values into categoricalcolumn, we use .astype('category'), if value is char(unique set) then ok\n",
    "#if not convert it into null."
   ]
  },
  {
   "cell_type": "code",
   "execution_count": 34,
   "id": "5e8ed3bf",
   "metadata": {},
   "outputs": [
    {
     "data": {
      "text/plain": [
       "CategoricalDtype(categories=['C', 'PS', 'S'], ordered=False)"
      ]
     },
     "execution_count": 34,
     "metadata": {},
     "output_type": "execute_result"
    }
   ],
   "source": [
    "data_df_1['Weather'].dtypes"
   ]
  },
  {
   "cell_type": "code",
   "execution_count": 35,
   "id": "6cd11baf",
   "metadata": {},
   "outputs": [
    {
     "name": "stdout",
     "output_type": "stream",
     "text": [
      "<class 'pandas.core.frame.DataFrame'>\n",
      "RangeIndex: 158 entries, 0 to 157\n",
      "Data columns (total 9 columns):\n",
      " #   Column   Non-Null Count  Dtype   \n",
      "---  ------   --------------  -----   \n",
      " 0   Ozone    120 non-null    float64 \n",
      " 1   Solar.R  151 non-null    float64 \n",
      " 2   Wind     158 non-null    float64 \n",
      " 3   Temp C   157 non-null    float64 \n",
      " 4   Month    157 non-null    float64 \n",
      " 5   Day      158 non-null    int64   \n",
      " 6   Year     158 non-null    int64   \n",
      " 7   Temp     158 non-null    int64   \n",
      " 8   Weather  155 non-null    category\n",
      "dtypes: category(1), float64(5), int64(3)\n",
      "memory usage: 10.3 KB\n"
     ]
    }
   ],
   "source": [
    "data_df_1.info()\n",
    "#check weather column Dtype"
   ]
  },
  {
   "cell_type": "markdown",
   "id": "794fe5c8",
   "metadata": {},
   "source": [
    "### For wind column"
   ]
  },
  {
   "cell_type": "code",
   "execution_count": 36,
   "id": "4c692a58",
   "metadata": {},
   "outputs": [],
   "source": [
    "#we will convert the wind float to wind int64"
   ]
  },
  {
   "cell_type": "code",
   "execution_count": 37,
   "id": "822623b4",
   "metadata": {},
   "outputs": [],
   "source": [
    "data_df_1['Wind'] = data_df_1['Wind'].astype('int64')\n",
    "#same as weather just 'int64'"
   ]
  },
  {
   "cell_type": "code",
   "execution_count": 38,
   "id": "1bbc6c96",
   "metadata": {},
   "outputs": [
    {
     "name": "stdout",
     "output_type": "stream",
     "text": [
      "<class 'pandas.core.frame.DataFrame'>\n",
      "RangeIndex: 158 entries, 0 to 157\n",
      "Data columns (total 9 columns):\n",
      " #   Column   Non-Null Count  Dtype   \n",
      "---  ------   --------------  -----   \n",
      " 0   Ozone    120 non-null    float64 \n",
      " 1   Solar.R  151 non-null    float64 \n",
      " 2   Wind     158 non-null    int64   \n",
      " 3   Temp C   157 non-null    float64 \n",
      " 4   Month    157 non-null    float64 \n",
      " 5   Day      158 non-null    int64   \n",
      " 6   Year     158 non-null    int64   \n",
      " 7   Temp     158 non-null    int64   \n",
      " 8   Weather  155 non-null    category\n",
      "dtypes: category(1), float64(4), int64(4)\n",
      "memory usage: 10.3 KB\n"
     ]
    }
   ],
   "source": [
    "data_df_1.info()"
   ]
  },
  {
   "cell_type": "code",
   "execution_count": 39,
   "id": "95c614b8",
   "metadata": {},
   "outputs": [
    {
     "data": {
      "text/plain": [
       "dtype('int64')"
      ]
     },
     "execution_count": 39,
     "metadata": {},
     "output_type": "execute_result"
    }
   ],
   "source": [
    "data_df_1['Wind'].dtypes"
   ]
  },
  {
   "cell_type": "markdown",
   "id": "fecd1634",
   "metadata": {},
   "source": [
    "## Checking for Duplicates and Treatments"
   ]
  },
  {
   "cell_type": "code",
   "execution_count": 40,
   "id": "e67ca7cd",
   "metadata": {},
   "outputs": [
    {
     "data": {
      "text/html": [
       "<div>\n",
       "<style scoped>\n",
       "    .dataframe tbody tr th:only-of-type {\n",
       "        vertical-align: middle;\n",
       "    }\n",
       "\n",
       "    .dataframe tbody tr th {\n",
       "        vertical-align: top;\n",
       "    }\n",
       "\n",
       "    .dataframe thead th {\n",
       "        text-align: right;\n",
       "    }\n",
       "</style>\n",
       "<table border=\"1\" class=\"dataframe\">\n",
       "  <thead>\n",
       "    <tr style=\"text-align: right;\">\n",
       "      <th></th>\n",
       "      <th>Ozone</th>\n",
       "      <th>Solar.R</th>\n",
       "      <th>Wind</th>\n",
       "      <th>Temp C</th>\n",
       "      <th>Month</th>\n",
       "      <th>Day</th>\n",
       "      <th>Year</th>\n",
       "      <th>Temp</th>\n",
       "      <th>Weather</th>\n",
       "    </tr>\n",
       "  </thead>\n",
       "  <tbody>\n",
       "    <tr>\n",
       "      <th>156</th>\n",
       "      <td>14.0</td>\n",
       "      <td>191.0</td>\n",
       "      <td>14</td>\n",
       "      <td>75.0</td>\n",
       "      <td>9.0</td>\n",
       "      <td>28</td>\n",
       "      <td>2010</td>\n",
       "      <td>75</td>\n",
       "      <td>S</td>\n",
       "    </tr>\n",
       "  </tbody>\n",
       "</table>\n",
       "</div>"
      ],
      "text/plain": [
       "     Ozone  Solar.R  Wind  Temp C  Month  Day  Year  Temp Weather\n",
       "156   14.0    191.0    14    75.0    9.0   28  2010    75       S"
      ]
     },
     "execution_count": 40,
     "metadata": {},
     "output_type": "execute_result"
    }
   ],
   "source": [
    "data_df_1[data_df_1.duplicated()]"
   ]
  },
  {
   "cell_type": "code",
   "execution_count": 41,
   "id": "acca6b9f",
   "metadata": {},
   "outputs": [
    {
     "data": {
      "text/plain": [
       "(1, 9)"
      ]
     },
     "execution_count": 41,
     "metadata": {},
     "output_type": "execute_result"
    }
   ],
   "source": [
    "data_df_1[data_df_1.duplicated()].shape\n",
    "#one row is duplicate for 9 columns"
   ]
  },
  {
   "cell_type": "code",
   "execution_count": 42,
   "id": "2334adeb",
   "metadata": {},
   "outputs": [],
   "source": [
    "data_df_1 = data_df_1.drop_duplicates()\n",
    "#using .drop_duplicates(), we delete all duplicate rows"
   ]
  },
  {
   "cell_type": "code",
   "execution_count": 43,
   "id": "02cbe4a7",
   "metadata": {},
   "outputs": [
    {
     "data": {
      "text/html": [
       "<div>\n",
       "<style scoped>\n",
       "    .dataframe tbody tr th:only-of-type {\n",
       "        vertical-align: middle;\n",
       "    }\n",
       "\n",
       "    .dataframe tbody tr th {\n",
       "        vertical-align: top;\n",
       "    }\n",
       "\n",
       "    .dataframe thead th {\n",
       "        text-align: right;\n",
       "    }\n",
       "</style>\n",
       "<table border=\"1\" class=\"dataframe\">\n",
       "  <thead>\n",
       "    <tr style=\"text-align: right;\">\n",
       "      <th></th>\n",
       "      <th>Ozone</th>\n",
       "      <th>Solar.R</th>\n",
       "      <th>Wind</th>\n",
       "      <th>Temp C</th>\n",
       "      <th>Month</th>\n",
       "      <th>Day</th>\n",
       "      <th>Year</th>\n",
       "      <th>Temp</th>\n",
       "      <th>Weather</th>\n",
       "    </tr>\n",
       "  </thead>\n",
       "  <tbody>\n",
       "  </tbody>\n",
       "</table>\n",
       "</div>"
      ],
      "text/plain": [
       "Empty DataFrame\n",
       "Columns: [Ozone, Solar.R, Wind, Temp C, Month, Day, Year, Temp, Weather]\n",
       "Index: []"
      ]
     },
     "execution_count": 43,
     "metadata": {},
     "output_type": "execute_result"
    }
   ],
   "source": [
    "data_df_1[data_df_1.duplicated()]\n",
    "#checking again for duplicated values"
   ]
  },
  {
   "cell_type": "code",
   "execution_count": 44,
   "id": "96f74b20",
   "metadata": {},
   "outputs": [],
   "source": [
    "# there are 2 columns for temp and temp c so we sould delete one.\n",
    "#we check which has less null or no null value and other column will delete"
   ]
  },
  {
   "cell_type": "code",
   "execution_count": 45,
   "id": "7e04b458",
   "metadata": {},
   "outputs": [
    {
     "data": {
      "text/plain": [
       "0"
      ]
     },
     "execution_count": 45,
     "metadata": {},
     "output_type": "execute_result"
    }
   ],
   "source": [
    "sum(data_df_1['Temp'].isnull())"
   ]
  },
  {
   "cell_type": "code",
   "execution_count": 46,
   "id": "b395b533",
   "metadata": {},
   "outputs": [
    {
     "data": {
      "text/plain": [
       "1"
      ]
     },
     "execution_count": 46,
     "metadata": {},
     "output_type": "execute_result"
    }
   ],
   "source": [
    "data_df_1['Temp C'].isnull().sum()"
   ]
  },
  {
   "cell_type": "code",
   "execution_count": 47,
   "id": "5682f00b",
   "metadata": {},
   "outputs": [],
   "source": [
    "#Temp C has one null value so we should delet Temp C"
   ]
  },
  {
   "cell_type": "code",
   "execution_count": 48,
   "id": "1a75b516",
   "metadata": {},
   "outputs": [],
   "source": [
    "data_df_1 = data_df_1.drop('Temp C', axis = 1)\n",
    "#deleted colmn using one of above mention method"
   ]
  },
  {
   "cell_type": "code",
   "execution_count": 49,
   "id": "349a8a98",
   "metadata": {},
   "outputs": [],
   "source": [
    "# we need to rename the solar.R column into Solar"
   ]
  },
  {
   "cell_type": "code",
   "execution_count": 50,
   "id": "c1c47611",
   "metadata": {},
   "outputs": [],
   "source": [
    "data_df_1 = data_df_1.rename({'Solar.R':'Solar'}, axis = 1)\n",
    "# .remane({'currunt_name' : 'new_name'}, axis = 1)"
   ]
  },
  {
   "cell_type": "code",
   "execution_count": 51,
   "id": "08308ed9",
   "metadata": {
    "scrolled": true
   },
   "outputs": [
    {
     "data": {
      "text/html": [
       "<div>\n",
       "<style scoped>\n",
       "    .dataframe tbody tr th:only-of-type {\n",
       "        vertical-align: middle;\n",
       "    }\n",
       "\n",
       "    .dataframe tbody tr th {\n",
       "        vertical-align: top;\n",
       "    }\n",
       "\n",
       "    .dataframe thead th {\n",
       "        text-align: right;\n",
       "    }\n",
       "</style>\n",
       "<table border=\"1\" class=\"dataframe\">\n",
       "  <thead>\n",
       "    <tr style=\"text-align: right;\">\n",
       "      <th></th>\n",
       "      <th>Ozone</th>\n",
       "      <th>Solar</th>\n",
       "      <th>Wind</th>\n",
       "      <th>Month</th>\n",
       "      <th>Day</th>\n",
       "      <th>Year</th>\n",
       "      <th>Temp</th>\n",
       "      <th>Weather</th>\n",
       "    </tr>\n",
       "  </thead>\n",
       "  <tbody>\n",
       "    <tr>\n",
       "      <th>0</th>\n",
       "      <td>41.0</td>\n",
       "      <td>190.0</td>\n",
       "      <td>7</td>\n",
       "      <td>5.0</td>\n",
       "      <td>1</td>\n",
       "      <td>2010</td>\n",
       "      <td>67</td>\n",
       "      <td>S</td>\n",
       "    </tr>\n",
       "    <tr>\n",
       "      <th>1</th>\n",
       "      <td>36.0</td>\n",
       "      <td>118.0</td>\n",
       "      <td>8</td>\n",
       "      <td>5.0</td>\n",
       "      <td>2</td>\n",
       "      <td>2010</td>\n",
       "      <td>72</td>\n",
       "      <td>C</td>\n",
       "    </tr>\n",
       "    <tr>\n",
       "      <th>2</th>\n",
       "      <td>12.0</td>\n",
       "      <td>149.0</td>\n",
       "      <td>12</td>\n",
       "      <td>5.0</td>\n",
       "      <td>3</td>\n",
       "      <td>2010</td>\n",
       "      <td>74</td>\n",
       "      <td>PS</td>\n",
       "    </tr>\n",
       "    <tr>\n",
       "      <th>3</th>\n",
       "      <td>18.0</td>\n",
       "      <td>313.0</td>\n",
       "      <td>11</td>\n",
       "      <td>5.0</td>\n",
       "      <td>4</td>\n",
       "      <td>2010</td>\n",
       "      <td>62</td>\n",
       "      <td>S</td>\n",
       "    </tr>\n",
       "    <tr>\n",
       "      <th>4</th>\n",
       "      <td>NaN</td>\n",
       "      <td>NaN</td>\n",
       "      <td>14</td>\n",
       "      <td>5.0</td>\n",
       "      <td>5</td>\n",
       "      <td>2010</td>\n",
       "      <td>56</td>\n",
       "      <td>S</td>\n",
       "    </tr>\n",
       "    <tr>\n",
       "      <th>...</th>\n",
       "      <td>...</td>\n",
       "      <td>...</td>\n",
       "      <td>...</td>\n",
       "      <td>...</td>\n",
       "      <td>...</td>\n",
       "      <td>...</td>\n",
       "      <td>...</td>\n",
       "      <td>...</td>\n",
       "    </tr>\n",
       "    <tr>\n",
       "      <th>152</th>\n",
       "      <td>20.0</td>\n",
       "      <td>223.0</td>\n",
       "      <td>11</td>\n",
       "      <td>9.0</td>\n",
       "      <td>30</td>\n",
       "      <td>2010</td>\n",
       "      <td>68</td>\n",
       "      <td>S</td>\n",
       "    </tr>\n",
       "    <tr>\n",
       "      <th>153</th>\n",
       "      <td>41.0</td>\n",
       "      <td>190.0</td>\n",
       "      <td>7</td>\n",
       "      <td>5.0</td>\n",
       "      <td>1</td>\n",
       "      <td>2010</td>\n",
       "      <td>67</td>\n",
       "      <td>C</td>\n",
       "    </tr>\n",
       "    <tr>\n",
       "      <th>154</th>\n",
       "      <td>30.0</td>\n",
       "      <td>193.0</td>\n",
       "      <td>6</td>\n",
       "      <td>9.0</td>\n",
       "      <td>26</td>\n",
       "      <td>2010</td>\n",
       "      <td>70</td>\n",
       "      <td>PS</td>\n",
       "    </tr>\n",
       "    <tr>\n",
       "      <th>155</th>\n",
       "      <td>NaN</td>\n",
       "      <td>145.0</td>\n",
       "      <td>13</td>\n",
       "      <td>9.0</td>\n",
       "      <td>27</td>\n",
       "      <td>2010</td>\n",
       "      <td>77</td>\n",
       "      <td>S</td>\n",
       "    </tr>\n",
       "    <tr>\n",
       "      <th>157</th>\n",
       "      <td>18.0</td>\n",
       "      <td>131.0</td>\n",
       "      <td>8</td>\n",
       "      <td>9.0</td>\n",
       "      <td>29</td>\n",
       "      <td>2010</td>\n",
       "      <td>76</td>\n",
       "      <td>C</td>\n",
       "    </tr>\n",
       "  </tbody>\n",
       "</table>\n",
       "<p>157 rows × 8 columns</p>\n",
       "</div>"
      ],
      "text/plain": [
       "     Ozone  Solar  Wind  Month  Day  Year  Temp Weather\n",
       "0     41.0  190.0     7    5.0    1  2010    67       S\n",
       "1     36.0  118.0     8    5.0    2  2010    72       C\n",
       "2     12.0  149.0    12    5.0    3  2010    74      PS\n",
       "3     18.0  313.0    11    5.0    4  2010    62       S\n",
       "4      NaN    NaN    14    5.0    5  2010    56       S\n",
       "..     ...    ...   ...    ...  ...   ...   ...     ...\n",
       "152   20.0  223.0    11    9.0   30  2010    68       S\n",
       "153   41.0  190.0     7    5.0    1  2010    67       C\n",
       "154   30.0  193.0     6    9.0   26  2010    70      PS\n",
       "155    NaN  145.0    13    9.0   27  2010    77       S\n",
       "157   18.0  131.0     8    9.0   29  2010    76       C\n",
       "\n",
       "[157 rows x 8 columns]"
      ]
     },
     "execution_count": 51,
     "metadata": {},
     "output_type": "execute_result"
    }
   ],
   "source": [
    "data_df_1"
   ]
  },
  {
   "cell_type": "markdown",
   "id": "0a05da0d",
   "metadata": {},
   "source": [
    "## Missing values and Treatment"
   ]
  },
  {
   "cell_type": "code",
   "execution_count": 52,
   "id": "f7b6a301",
   "metadata": {},
   "outputs": [],
   "source": [
    "# we need to check heat map for null values first and last so we can compare both results\n",
    "#last result should not contain any nul values"
   ]
  },
  {
   "cell_type": "code",
   "execution_count": 53,
   "id": "d60f16c7",
   "metadata": {
    "scrolled": false
   },
   "outputs": [
    {
     "data": {
      "text/plain": [
       "<AxesSubplot:>"
      ]
     },
     "execution_count": 53,
     "metadata": {},
     "output_type": "execute_result"
    },
    {
     "data": {
      "image/png": "[encoded data removed]",
      "text/plain": [
       "<Figure size 432x288 with 2 Axes>"
      ]
     },
     "metadata": {
      "needs_background": "light"
     },
     "output_type": "display_data"
    }
   ],
   "source": [
    "### Heat Map\n",
    "\n",
    "import seaborn as sns\n",
    "\n",
    "cols = data_df_1.columns\n",
    "\n",
    "sns.heatmap(data_df_1[cols].isnull())\n",
    "#.isnull is necessary to mark null values\n",
    "\n",
    "#or we can use direct as\n",
    "# sns.heatmap(data_df_1[data_df_1.columns].isnull())"
   ]
  },
  {
   "cell_type": "code",
   "execution_count": 54,
   "id": "62ccfe0d",
   "metadata": {},
   "outputs": [
    {
     "data": {
      "text/plain": [
       "<AxesSubplot:>"
      ]
     },
     "execution_count": 54,
     "metadata": {},
     "output_type": "execute_result"
    },
    {
     "data": {
      "image/png": "[encoded data removed]",
      "text/plain": [
       "<Figure size 432x288 with 2 Axes>"
      ]
     },
     "metadata": {
      "needs_background": "light"
     },
     "output_type": "display_data"
    }
   ],
   "source": [
    "\n",
    "color = ['blue', 'Yellow']\n",
    "\n",
    "sns.heatmap(data_df_1[cols].isnull(),\n",
    "           cmap = sns.color_palette(color))\n",
    "#cmap = Color map parameter\n",
    "#color_palette = method name"
   ]
  },
  {
   "cell_type": "code",
   "execution_count": 55,
   "id": "b8125845",
   "metadata": {},
   "outputs": [
    {
     "data": {
      "text/html": [
       "<div>\n",
       "<style scoped>\n",
       "    .dataframe tbody tr th:only-of-type {\n",
       "        vertical-align: middle;\n",
       "    }\n",
       "\n",
       "    .dataframe tbody tr th {\n",
       "        vertical-align: top;\n",
       "    }\n",
       "\n",
       "    .dataframe thead th {\n",
       "        text-align: right;\n",
       "    }\n",
       "</style>\n",
       "<table border=\"1\" class=\"dataframe\">\n",
       "  <thead>\n",
       "    <tr style=\"text-align: right;\">\n",
       "      <th></th>\n",
       "      <th>Ozone</th>\n",
       "      <th>Solar</th>\n",
       "      <th>Wind</th>\n",
       "      <th>Month</th>\n",
       "      <th>Day</th>\n",
       "      <th>Year</th>\n",
       "      <th>Temp</th>\n",
       "      <th>Weather</th>\n",
       "    </tr>\n",
       "  </thead>\n",
       "  <tbody>\n",
       "    <tr>\n",
       "      <th>4</th>\n",
       "      <td>NaN</td>\n",
       "      <td>NaN</td>\n",
       "      <td>14</td>\n",
       "      <td>5.0</td>\n",
       "      <td>5</td>\n",
       "      <td>2010</td>\n",
       "      <td>56</td>\n",
       "      <td>S</td>\n",
       "    </tr>\n",
       "    <tr>\n",
       "      <th>5</th>\n",
       "      <td>28.0</td>\n",
       "      <td>NaN</td>\n",
       "      <td>14</td>\n",
       "      <td>5.0</td>\n",
       "      <td>6</td>\n",
       "      <td>2010</td>\n",
       "      <td>66</td>\n",
       "      <td>C</td>\n",
       "    </tr>\n",
       "    <tr>\n",
       "      <th>9</th>\n",
       "      <td>NaN</td>\n",
       "      <td>194.0</td>\n",
       "      <td>8</td>\n",
       "      <td>5.0</td>\n",
       "      <td>10</td>\n",
       "      <td>2010</td>\n",
       "      <td>69</td>\n",
       "      <td>S</td>\n",
       "    </tr>\n",
       "    <tr>\n",
       "      <th>10</th>\n",
       "      <td>7.0</td>\n",
       "      <td>NaN</td>\n",
       "      <td>6</td>\n",
       "      <td>5.0</td>\n",
       "      <td>11</td>\n",
       "      <td>2010</td>\n",
       "      <td>74</td>\n",
       "      <td>C</td>\n",
       "    </tr>\n",
       "    <tr>\n",
       "      <th>23</th>\n",
       "      <td>32.0</td>\n",
       "      <td>92.0</td>\n",
       "      <td>12</td>\n",
       "      <td>NaN</td>\n",
       "      <td>24</td>\n",
       "      <td>2010</td>\n",
       "      <td>61</td>\n",
       "      <td>C</td>\n",
       "    </tr>\n",
       "  </tbody>\n",
       "</table>\n",
       "</div>"
      ],
      "text/plain": [
       "    Ozone  Solar  Wind  Month  Day  Year  Temp Weather\n",
       "4     NaN    NaN    14    5.0    5  2010    56       S\n",
       "5    28.0    NaN    14    5.0    6  2010    66       C\n",
       "9     NaN  194.0     8    5.0   10  2010    69       S\n",
       "10    7.0    NaN     6    5.0   11  2010    74       C\n",
       "23   32.0   92.0    12    NaN   24  2010    61       C"
      ]
     },
     "execution_count": 55,
     "metadata": {},
     "output_type": "execute_result"
    }
   ],
   "source": [
    "data_df_1[data_df_1.isnull().any(axis = 1)].head()\n",
    "#to print all the null value containing rows"
   ]
  },
  {
   "cell_type": "code",
   "execution_count": 56,
   "id": "27226414",
   "metadata": {},
   "outputs": [
    {
     "data": {
      "text/plain": [
       "41.81512605042017"
      ]
     },
     "execution_count": 56,
     "metadata": {},
     "output_type": "execute_result"
    }
   ],
   "source": [
    "data_df_1['Ozone'].mean()"
   ]
  },
  {
   "cell_type": "code",
   "execution_count": 57,
   "id": "0ae836dd",
   "metadata": {},
   "outputs": [],
   "source": [
    "data_df_1['Ozone'] = data_df_1['Ozone'].fillna(41.81)\n",
    "#putting mean value at the place of null value\n",
    "#we can put median value also\n",
    "#only for numeroc column"
   ]
  },
  {
   "cell_type": "code",
   "execution_count": 58,
   "id": "40e81d9b",
   "metadata": {},
   "outputs": [
    {
     "data": {
      "text/plain": [
       "array([ 41.  ,  36.  ,  12.  ,  18.  ,  41.81,  28.  ,  23.  ,  19.  ,\n",
       "         8.  ,  41.81,   7.  ,  16.  ,  11.  ,  14.  ,  18.  ,  14.  ,\n",
       "        34.  ,   6.  ,  30.  ,  11.  ,   1.  ,  11.  ,   4.  ,  32.  ,\n",
       "        41.81,  41.81,  41.81,  23.  ,  45.  , 115.  ,  37.  ,  41.81,\n",
       "        41.81,  41.81,  41.81,  41.81,  41.81,  29.  ,  41.81,  71.  ,\n",
       "        39.  ,  41.81,  41.81,  23.  ,  41.81,  41.81,  21.  ,  37.  ,\n",
       "        20.  ,  12.  ,  13.  ,  41.81,  41.81,  41.81,  41.81,  41.81,\n",
       "        41.81,  41.81,  41.81,  41.81,  41.81, 135.  ,  49.  ,  32.  ,\n",
       "        41.81,  64.  ,  40.  ,  77.  ,  97.  ,  97.  ,  85.  ,  41.81,\n",
       "        10.  ,  27.  ,  41.81,   7.  ,  48.  ,  35.  ,  61.  ,  79.  ,\n",
       "        63.  ,  16.  ,  41.81,  41.81,  80.  , 108.  ,  20.  ,  52.  ,\n",
       "        82.  ,  50.  ,  64.  ,  59.  ,  39.  ,   9.  ,  16.  ,  78.  ,\n",
       "        35.  ,  66.  , 122.  ,  89.  , 110.  ,  41.81,  41.81,  44.  ,\n",
       "        28.  ,  65.  ,  41.81,  22.  ,  59.  ,  23.  ,  31.  ,  44.  ,\n",
       "        21.  ,   9.  ,  41.81,  45.  , 168.  ,  73.  ,  41.81,  76.  ,\n",
       "       118.  ,  84.  ,  85.  ,  96.  ,  78.  ,  73.  ,  91.  ,  47.  ,\n",
       "        32.  ,  20.  ,  23.  ,  21.  ,  24.  ,  44.  ,  21.  ,  28.  ,\n",
       "         9.  ,  13.  ,  46.  ,  18.  ,  13.  ,  24.  ,  16.  ,  13.  ,\n",
       "        23.  ,  36.  ,   7.  ,  14.  ,  30.  ,  41.81,  14.  ,  18.  ,\n",
       "        20.  ,  41.  ,  30.  ,  41.81,  18.  ])"
      ]
     },
     "execution_count": 58,
     "metadata": {},
     "output_type": "execute_result"
    }
   ],
   "source": [
    "data_df_1['Ozone'].values"
   ]
  },
  {
   "cell_type": "code",
   "execution_count": 59,
   "id": "8f52624c",
   "metadata": {},
   "outputs": [
    {
     "data": {
      "text/plain": [
       "array([190., 118., 149., 313.,  nan,  nan, 299.,  99.,  19., 194.,  nan,\n",
       "       256., 290., 274.,  65., 334., 307.,  78., 322.,  44.,   8., 320.,\n",
       "        25.,  92.,  66., 266.,  nan,  13., 252., 223., 279., 286., 287.,\n",
       "       242., 186., 220., 264., 127., 273., 291., 323., 259., 250., 148.,\n",
       "       332., 322., 191., 284.,  37., 120., 137., 150.,  59.,  91., 250.,\n",
       "       135., 127.,  47.,  98.,  31., 138., 269., 248., 236., 101., 175.,\n",
       "       314., 276., 267., 272., 175., 139., 264., 175., 291.,  48., 260.,\n",
       "       274., 285., 187., 220.,   7., 258., 295., 294., 223.,  81.,  82.,\n",
       "       213., 275., 253., 254.,  83.,  24.,  77.,  nan,  nan,  nan, 255.,\n",
       "       229., 207., 222., 137., 192., 273., 157.,  64.,  71.,  51., 115.,\n",
       "       244., 190., 259.,  36., 255., 212., 238., 215., 153., 203., 225.,\n",
       "       237., 188., 167., 197., 183., 189.,  95.,  92., 252., 220., 230.,\n",
       "       259., 236., 259., 238.,  24., 112., 237., 224.,  27., 238., 201.,\n",
       "       238.,  14., 139.,  49.,  20., 193., 145., 191., 131., 223., 190.,\n",
       "       193., 145., 131.])"
      ]
     },
     "execution_count": 59,
     "metadata": {},
     "output_type": "execute_result"
    }
   ],
   "source": [
    "data_df_1['Solar'].values"
   ]
  },
  {
   "cell_type": "code",
   "execution_count": 60,
   "id": "d0ee9239",
   "metadata": {},
   "outputs": [
    {
     "data": {
      "text/plain": [
       "185.36666666666667"
      ]
     },
     "execution_count": 60,
     "metadata": {},
     "output_type": "execute_result"
    }
   ],
   "source": [
    "data_df_1['Solar'].mean()"
   ]
  },
  {
   "cell_type": "code",
   "execution_count": 61,
   "id": "43c86bb9",
   "metadata": {},
   "outputs": [],
   "source": [
    "data_df_1['Solar'] = data_df_1['Solar'].fillna(185.36)\n",
    "#putting mean value at the place of null value\n",
    "#we can put median value also\n",
    "#only for numeroc column"
   ]
  },
  {
   "cell_type": "code",
   "execution_count": 62,
   "id": "aa469c0d",
   "metadata": {},
   "outputs": [
    {
     "data": {
      "text/plain": [
       "array([190.  , 118.  , 149.  , 313.  , 185.36, 185.36, 299.  ,  99.  ,\n",
       "        19.  , 194.  , 185.36, 256.  , 290.  , 274.  ,  65.  , 334.  ,\n",
       "       307.  ,  78.  , 322.  ,  44.  ,   8.  , 320.  ,  25.  ,  92.  ,\n",
       "        66.  , 266.  , 185.36,  13.  , 252.  , 223.  , 279.  , 286.  ,\n",
       "       287.  , 242.  , 186.  , 220.  , 264.  , 127.  , 273.  , 291.  ,\n",
       "       323.  , 259.  , 250.  , 148.  , 332.  , 322.  , 191.  , 284.  ,\n",
       "        37.  , 120.  , 137.  , 150.  ,  59.  ,  91.  , 250.  , 135.  ,\n",
       "       127.  ,  47.  ,  98.  ,  31.  , 138.  , 269.  , 248.  , 236.  ,\n",
       "       101.  , 175.  , 314.  , 276.  , 267.  , 272.  , 175.  , 139.  ,\n",
       "       264.  , 175.  , 291.  ,  48.  , 260.  , 274.  , 285.  , 187.  ,\n",
       "       220.  ,   7.  , 258.  , 295.  , 294.  , 223.  ,  81.  ,  82.  ,\n",
       "       213.  , 275.  , 253.  , 254.  ,  83.  ,  24.  ,  77.  , 185.36,\n",
       "       185.36, 185.36, 255.  , 229.  , 207.  , 222.  , 137.  , 192.  ,\n",
       "       273.  , 157.  ,  64.  ,  71.  ,  51.  , 115.  , 244.  , 190.  ,\n",
       "       259.  ,  36.  , 255.  , 212.  , 238.  , 215.  , 153.  , 203.  ,\n",
       "       225.  , 237.  , 188.  , 167.  , 197.  , 183.  , 189.  ,  95.  ,\n",
       "        92.  , 252.  , 220.  , 230.  , 259.  , 236.  , 259.  , 238.  ,\n",
       "        24.  , 112.  , 237.  , 224.  ,  27.  , 238.  , 201.  , 238.  ,\n",
       "        14.  , 139.  ,  49.  ,  20.  , 193.  , 145.  , 191.  , 131.  ,\n",
       "       223.  , 190.  , 193.  , 145.  , 131.  ])"
      ]
     },
     "execution_count": 62,
     "metadata": {},
     "output_type": "execute_result"
    }
   ],
   "source": [
    "data_df_1['Solar'].values"
   ]
  },
  {
   "cell_type": "code",
   "execution_count": 63,
   "id": "544dfeb0",
   "metadata": {
    "scrolled": true
   },
   "outputs": [
    {
     "data": {
      "text/html": [
       "<div>\n",
       "<style scoped>\n",
       "    .dataframe tbody tr th:only-of-type {\n",
       "        vertical-align: middle;\n",
       "    }\n",
       "\n",
       "    .dataframe tbody tr th {\n",
       "        vertical-align: top;\n",
       "    }\n",
       "\n",
       "    .dataframe thead th {\n",
       "        text-align: right;\n",
       "    }\n",
       "</style>\n",
       "<table border=\"1\" class=\"dataframe\">\n",
       "  <thead>\n",
       "    <tr style=\"text-align: right;\">\n",
       "      <th></th>\n",
       "      <th>Ozone</th>\n",
       "      <th>Solar</th>\n",
       "      <th>Wind</th>\n",
       "      <th>Month</th>\n",
       "      <th>Day</th>\n",
       "      <th>Year</th>\n",
       "      <th>Temp</th>\n",
       "      <th>Weather</th>\n",
       "    </tr>\n",
       "  </thead>\n",
       "  <tbody>\n",
       "    <tr>\n",
       "      <th>23</th>\n",
       "      <td>32.0</td>\n",
       "      <td>92.00</td>\n",
       "      <td>12</td>\n",
       "      <td>NaN</td>\n",
       "      <td>24</td>\n",
       "      <td>2010</td>\n",
       "      <td>61</td>\n",
       "      <td>C</td>\n",
       "    </tr>\n",
       "    <tr>\n",
       "      <th>87</th>\n",
       "      <td>52.0</td>\n",
       "      <td>82.00</td>\n",
       "      <td>12</td>\n",
       "      <td>7.0</td>\n",
       "      <td>27</td>\n",
       "      <td>2010</td>\n",
       "      <td>86</td>\n",
       "      <td>NaN</td>\n",
       "    </tr>\n",
       "    <tr>\n",
       "      <th>93</th>\n",
       "      <td>9.0</td>\n",
       "      <td>24.00</td>\n",
       "      <td>13</td>\n",
       "      <td>8.0</td>\n",
       "      <td>2</td>\n",
       "      <td>2010</td>\n",
       "      <td>81</td>\n",
       "      <td>NaN</td>\n",
       "    </tr>\n",
       "    <tr>\n",
       "      <th>95</th>\n",
       "      <td>78.0</td>\n",
       "      <td>185.36</td>\n",
       "      <td>6</td>\n",
       "      <td>8.0</td>\n",
       "      <td>4</td>\n",
       "      <td>2010</td>\n",
       "      <td>86</td>\n",
       "      <td>NaN</td>\n",
       "    </tr>\n",
       "  </tbody>\n",
       "</table>\n",
       "</div>"
      ],
      "text/plain": [
       "    Ozone   Solar  Wind  Month  Day  Year  Temp Weather\n",
       "23   32.0   92.00    12    NaN   24  2010    61       C\n",
       "87   52.0   82.00    12    7.0   27  2010    86     NaN\n",
       "93    9.0   24.00    13    8.0    2  2010    81     NaN\n",
       "95   78.0  185.36     6    8.0    4  2010    86     NaN"
      ]
     },
     "execution_count": 63,
     "metadata": {},
     "output_type": "execute_result"
    }
   ],
   "source": [
    "data_df_1[data_df_1.isnull().any(axis = 1)].head()\n",
    "#to print all null values from database "
   ]
  },
  {
   "cell_type": "code",
   "execution_count": 64,
   "id": "10c86b73",
   "metadata": {},
   "outputs": [
    {
     "data": {
      "text/plain": [
       "['S', 'C', 'PS', 'S', 'S', ..., 'S', 'C', 'PS', 'S', 'C']\n",
       "Length: 157\n",
       "Categories (3, object): ['C', 'PS', 'S']"
      ]
     },
     "execution_count": 64,
     "metadata": {},
     "output_type": "execute_result"
    }
   ],
   "source": [
    "data_df_1['Weather'].values"
   ]
  },
  {
   "cell_type": "code",
   "execution_count": 65,
   "id": "3557fcd4",
   "metadata": {},
   "outputs": [],
   "source": [
    "data_df_1 = data_df_1.fillna(data_df_1.mode(). iloc[0])"
   ]
  },
  {
   "cell_type": "code",
   "execution_count": 66,
   "id": "d1fb5bb3",
   "metadata": {},
   "outputs": [],
   "source": [
    "#oth rows S is the mode,\n",
    "#this is unimodel thats why we have one value is answer\n",
    "#for bimodel and multi model we need to use below syntax"
   ]
  },
  {
   "cell_type": "code",
   "execution_count": 67,
   "id": "f52dad17",
   "metadata": {},
   "outputs": [],
   "source": [
    "#we can not check for weaher values coz they are alphabets its confusing\n",
    "#we should check by printing all the num values from database itself"
   ]
  },
  {
   "cell_type": "code",
   "execution_count": 68,
   "id": "689ac119",
   "metadata": {},
   "outputs": [
    {
     "data": {
      "text/html": [
       "<div>\n",
       "<style scoped>\n",
       "    .dataframe tbody tr th:only-of-type {\n",
       "        vertical-align: middle;\n",
       "    }\n",
       "\n",
       "    .dataframe tbody tr th {\n",
       "        vertical-align: top;\n",
       "    }\n",
       "\n",
       "    .dataframe thead th {\n",
       "        text-align: right;\n",
       "    }\n",
       "</style>\n",
       "<table border=\"1\" class=\"dataframe\">\n",
       "  <thead>\n",
       "    <tr style=\"text-align: right;\">\n",
       "      <th></th>\n",
       "      <th>Ozone</th>\n",
       "      <th>Solar</th>\n",
       "      <th>Wind</th>\n",
       "      <th>Month</th>\n",
       "      <th>Day</th>\n",
       "      <th>Year</th>\n",
       "      <th>Temp</th>\n",
       "      <th>Weather</th>\n",
       "    </tr>\n",
       "  </thead>\n",
       "  <tbody>\n",
       "  </tbody>\n",
       "</table>\n",
       "</div>"
      ],
      "text/plain": [
       "Empty DataFrame\n",
       "Columns: [Ozone, Solar, Wind, Month, Day, Year, Temp, Weather]\n",
       "Index: []"
      ]
     },
     "execution_count": 68,
     "metadata": {},
     "output_type": "execute_result"
    }
   ],
   "source": [
    "data_df_1[data_df_1.isnull().any(axis = 1)].head()"
   ]
  },
  {
   "cell_type": "code",
   "execution_count": null,
   "id": "ee277298",
   "metadata": {},
   "outputs": [],
   "source": []
  },
  {
   "cell_type": "markdown",
   "id": "9bb7ac77",
   "metadata": {},
   "source": [
    "## Outliers Detection"
   ]
  },
  {
   "cell_type": "code",
   "execution_count": 69,
   "id": "f7f6daf8",
   "metadata": {},
   "outputs": [],
   "source": [
    "# Print hist and boxplot for all columns\n",
    "# find categorical columns"
   ]
  },
  {
   "cell_type": "code",
   "execution_count": 70,
   "id": "f6614751",
   "metadata": {
    "scrolled": true
   },
   "outputs": [
    {
     "data": {
      "text/plain": [
       "<AxesSubplot:>"
      ]
     },
     "execution_count": 70,
     "metadata": {},
     "output_type": "execute_result"
    },
    {
     "data": {
      "image/png": "[encoded data removed]",
      "text/plain": [
       "<Figure size 432x288 with 1 Axes>"
      ]
     },
     "metadata": {
      "needs_background": "light"
     },
     "output_type": "display_data"
    }
   ],
   "source": [
    "data_df_1['Ozone'].hist()"
   ]
  },
  {
   "cell_type": "code",
   "execution_count": 71,
   "id": "20402e19",
   "metadata": {},
   "outputs": [
    {
     "data": {
      "text/plain": [
       "<AxesSubplot:>"
      ]
     },
     "execution_count": 71,
     "metadata": {},
     "output_type": "execute_result"
    },
    {
     "data": {
      "image/png": "[encoded data removed]",
      "text/plain": [
       "<Figure size 432x288 with 1 Axes>"
      ]
     },
     "metadata": {
      "needs_background": "light"
     },
     "output_type": "display_data"
    }
   ],
   "source": [
    "data_df_1.boxplot(['Ozone'])"
   ]
  },
  {
   "cell_type": "code",
   "execution_count": 72,
   "id": "dad2448c",
   "metadata": {},
   "outputs": [
    {
     "data": {
      "text/plain": [
       "<AxesSubplot:>"
      ]
     },
     "execution_count": 72,
     "metadata": {},
     "output_type": "execute_result"
    },
    {
     "data": {
      "image/png": "[encoded data removed]",
      "text/plain": [
       "<Figure size 432x288 with 1 Axes>"
      ]
     },
     "metadata": {
      "needs_background": "light"
     },
     "output_type": "display_data"
    }
   ],
   "source": [
    "data_df_1['Solar'].hist()"
   ]
  },
  {
   "cell_type": "code",
   "execution_count": 73,
   "id": "b3f733cb",
   "metadata": {},
   "outputs": [
    {
     "data": {
      "text/plain": [
       "<AxesSubplot:>"
      ]
     },
     "execution_count": 73,
     "metadata": {},
     "output_type": "execute_result"
    },
    {
     "data": {
      "image/png": "[encoded data removed]",
      "text/plain": [
       "<Figure size 432x288 with 1 Axes>"
      ]
     },
     "metadata": {
      "needs_background": "light"
     },
     "output_type": "display_data"
    }
   ],
   "source": [
    "data_df_1.boxplot(['Solar'])"
   ]
  },
  {
   "cell_type": "code",
   "execution_count": 74,
   "id": "e387d684",
   "metadata": {},
   "outputs": [
    {
     "data": {
      "text/plain": [
       "<AxesSubplot:>"
      ]
     },
     "execution_count": 74,
     "metadata": {},
     "output_type": "execute_result"
    },
    {
     "data": {
      "image/png": "[encoded data removed]",
      "text/plain": [
       "<Figure size 432x288 with 1 Axes>"
      ]
     },
     "metadata": {
      "needs_background": "light"
     },
     "output_type": "display_data"
    }
   ],
   "source": [
    "data_df_1['Wind'].hist()"
   ]
  },
  {
   "cell_type": "code",
   "execution_count": 75,
   "id": "f4e3d36f",
   "metadata": {},
   "outputs": [
    {
     "data": {
      "text/plain": [
       "<AxesSubplot:>"
      ]
     },
     "execution_count": 75,
     "metadata": {},
     "output_type": "execute_result"
    },
    {
     "data": {
      "image/png": "[encoded data removed]",
      "text/plain": [
       "<Figure size 432x288 with 1 Axes>"
      ]
     },
     "metadata": {
      "needs_background": "light"
     },
     "output_type": "display_data"
    }
   ],
   "source": [
    "data_df_1.boxplot(['Wind'])"
   ]
  },
  {
   "cell_type": "code",
   "execution_count": 76,
   "id": "df295525",
   "metadata": {},
   "outputs": [
    {
     "data": {
      "text/plain": [
       "<AxesSubplot:>"
      ]
     },
     "execution_count": 76,
     "metadata": {},
     "output_type": "execute_result"
    },
    {
     "data": {
      "image/png": "[encoded data removed]",
      "text/plain": [
       "<Figure size 432x288 with 1 Axes>"
      ]
     },
     "metadata": {
      "needs_background": "light"
     },
     "output_type": "display_data"
    }
   ],
   "source": [
    "data_df_1['Temp'].hist()"
   ]
  },
  {
   "cell_type": "code",
   "execution_count": 77,
   "id": "398be1e1",
   "metadata": {},
   "outputs": [
    {
     "data": {
      "text/plain": [
       "<AxesSubplot:>"
      ]
     },
     "execution_count": 77,
     "metadata": {},
     "output_type": "execute_result"
    },
    {
     "data": {
      "image/png": "[encoded data removed]",
      "text/plain": [
       "<Figure size 432x288 with 1 Axes>"
      ]
     },
     "metadata": {
      "needs_background": "light"
     },
     "output_type": "display_data"
    }
   ],
   "source": [
    "data_df_1.boxplot(['Temp'])"
   ]
  },
  {
   "cell_type": "code",
   "execution_count": 78,
   "id": "0cd48134",
   "metadata": {
    "scrolled": true
   },
   "outputs": [
    {
     "data": {
      "text/plain": [
       "<AxesSubplot:>"
      ]
     },
     "execution_count": 78,
     "metadata": {},
     "output_type": "execute_result"
    },
    {
     "data": {
      "image/png": "[encoded data removed]",
      "text/plain": [
       "<Figure size 432x288 with 1 Axes>"
      ]
     },
     "metadata": {
      "needs_background": "light"
     },
     "output_type": "display_data"
    }
   ],
   "source": [
    "data_df_1['Weather'].hist()\n",
    "#Categorical column"
   ]
  },
  {
   "cell_type": "code",
   "execution_count": 79,
   "id": "a9fa0c11",
   "metadata": {},
   "outputs": [
    {
     "data": {
      "text/plain": [
       "<AxesSubplot:>"
      ]
     },
     "execution_count": 79,
     "metadata": {},
     "output_type": "execute_result"
    },
    {
     "data": {
      "image/png": "[encoded data removed]",
      "text/plain": [
       "<Figure size 432x288 with 1 Axes>"
      ]
     },
     "metadata": {
      "needs_background": "light"
     },
     "output_type": "display_data"
    }
   ],
   "source": [
    "data_df_1['Month'].hist()"
   ]
  },
  {
   "cell_type": "code",
   "execution_count": 80,
   "id": "ac2a7d63",
   "metadata": {},
   "outputs": [],
   "source": [
    "#boxplot is not for categorical columns"
   ]
  },
  {
   "cell_type": "code",
   "execution_count": 81,
   "id": "98975c5b",
   "metadata": {},
   "outputs": [
    {
     "data": {
      "text/plain": [
       "count    157.000000\n",
       "mean      41.813885\n",
       "std       28.404353\n",
       "min        1.000000\n",
       "25%       21.000000\n",
       "50%       41.810000\n",
       "75%       45.000000\n",
       "max      168.000000\n",
       "Name: Ozone, dtype: float64"
      ]
     },
     "execution_count": 81,
     "metadata": {},
     "output_type": "execute_result"
    }
   ],
   "source": [
    "data_df_1['Ozone'].describe()"
   ]
  },
  {
   "cell_type": "markdown",
   "id": "f4869ac0",
   "metadata": {},
   "source": [
    "### ploting bar chart for categorical values"
   ]
  },
  {
   "cell_type": "code",
   "execution_count": 82,
   "id": "2e345124",
   "metadata": {},
   "outputs": [
    {
     "data": {
      "text/plain": [
       "<AxesSubplot:>"
      ]
     },
     "execution_count": 82,
     "metadata": {},
     "output_type": "execute_result"
    },
    {
     "data": {
      "image/png": "[encoded data removed]",
      "text/plain": [
       "<Figure size 432x288 with 1 Axes>"
      ]
     },
     "metadata": {
      "needs_background": "light"
     },
     "output_type": "display_data"
    }
   ],
   "source": [
    "data_df_1['Weather'].value_counts().plot.bar()"
   ]
  },
  {
   "cell_type": "code",
   "execution_count": 83,
   "id": "b587f35a",
   "metadata": {},
   "outputs": [
    {
     "data": {
      "text/plain": [
       "<AxesSubplot:>"
      ]
     },
     "execution_count": 83,
     "metadata": {},
     "output_type": "execute_result"
    },
    {
     "data": {
      "image/png": "[encoded data removed]",
      "text/plain": [
       "<Figure size 432x288 with 1 Axes>"
      ]
     },
     "metadata": {
      "needs_background": "light"
     },
     "output_type": "display_data"
    }
   ],
   "source": [
    "data_df_1['Month'].value_counts().plot.bar()"
   ]
  },
  {
   "cell_type": "markdown",
   "id": "7b37e076",
   "metadata": {},
   "source": [
    "### Heat Map"
   ]
  },
  {
   "cell_type": "code",
   "execution_count": 84,
   "id": "d99fe697",
   "metadata": {},
   "outputs": [],
   "source": [
    "import seaborn as sns"
   ]
  },
  {
   "cell_type": "code",
   "execution_count": 85,
   "id": "af07588e",
   "metadata": {},
   "outputs": [],
   "source": [
    "cols = data_df_1.columns"
   ]
  },
  {
   "cell_type": "code",
   "execution_count": 86,
   "id": "dd82008a",
   "metadata": {},
   "outputs": [
    {
     "data": {
      "text/plain": [
       "<AxesSubplot:>"
      ]
     },
     "execution_count": 86,
     "metadata": {},
     "output_type": "execute_result"
    },
    {
     "data": {
      "image/png": "[encoded data removed]",
      "text/plain": [
       "<Figure size 432x288 with 2 Axes>"
      ]
     },
     "metadata": {
      "needs_background": "light"
     },
     "output_type": "display_data"
    }
   ],
   "source": [
    "sns.heatmap(data_df_1[cols].isnull())\n",
    "#.isnull is necessary to mark null values\n",
    "\n",
    "#or we can use direct as\n",
    "# sns.heatmap(data_df_1[data_df_1.columns].isnull())"
   ]
  },
  {
   "cell_type": "code",
   "execution_count": 87,
   "id": "0bdddb24",
   "metadata": {},
   "outputs": [],
   "source": [
    "color = ['blue', 'Yellow']"
   ]
  },
  {
   "cell_type": "code",
   "execution_count": 88,
   "id": "bbca7c5a",
   "metadata": {},
   "outputs": [
    {
     "data": {
      "text/plain": [
       "<AxesSubplot:>"
      ]
     },
     "execution_count": 88,
     "metadata": {},
     "output_type": "execute_result"
    },
    {
     "data": {
      "image/png": "[encoded data removed]",
      "text/plain": [
       "<Figure size 432x288 with 2 Axes>"
      ]
     },
     "metadata": {
      "needs_background": "light"
     },
     "output_type": "display_data"
    }
   ],
   "source": [
    "sns.heatmap(data_df_1[cols].isnull(),\n",
    "           cmap = sns.color_palette(color))\n",
    "#cmap = Color map parameter\n",
    "#color_palette = method name"
   ]
  },
  {
   "cell_type": "markdown",
   "id": "534a1e75",
   "metadata": {},
   "source": [
    "### all null values and missing values are trated for all columns"
   ]
  },
  {
   "cell_type": "code",
   "execution_count": 89,
   "id": "84383dd6",
   "metadata": {},
   "outputs": [
    {
     "data": {
      "text/plain": [
       "Ozone      0\n",
       "Solar      0\n",
       "Wind       0\n",
       "Month      0\n",
       "Day        0\n",
       "Year       0\n",
       "Temp       0\n",
       "Weather    0\n",
       "dtype: int64"
      ]
     },
     "execution_count": 89,
     "metadata": {},
     "output_type": "execute_result"
    }
   ],
   "source": [
    "data_df_1.isnull().sum()"
   ]
  },
  {
   "cell_type": "markdown",
   "id": "44cbf7e5",
   "metadata": {},
   "source": [
    "## Scatterplot and other visualizations"
   ]
  },
  {
   "cell_type": "code",
   "execution_count": 90,
   "id": "43547416",
   "metadata": {},
   "outputs": [],
   "source": [
    "import seaborn as sns"
   ]
  },
  {
   "cell_type": "code",
   "execution_count": 91,
   "id": "ea06df1b",
   "metadata": {},
   "outputs": [
    {
     "data": {
      "text/plain": [
       "<seaborn.axisgrid.PairGrid at 0x20151f08970>"
      ]
     },
     "execution_count": 91,
     "metadata": {},
     "output_type": "execute_result"
    },
    {
     "data": {
      "image/png": "[encoded data removed]",
      "text/plain": [
       "<Figure size 1260x1260 with 56 Axes>"
      ]
     },
     "metadata": {
      "needs_background": "light"
     },
     "output_type": "display_data"
    }
   ],
   "source": [
    "sns.pairplot(data_df_1)\n",
    "#pair plot is only for numeric columns so plots not contais weather column"
   ]
  },
  {
   "cell_type": "code",
   "execution_count": 92,
   "id": "d3f6ef14",
   "metadata": {},
   "outputs": [
    {
     "data": {
      "text/html": [
       "<div>\n",
       "<style scoped>\n",
       "    .dataframe tbody tr th:only-of-type {\n",
       "        vertical-align: middle;\n",
       "    }\n",
       "\n",
       "    .dataframe tbody tr th {\n",
       "        vertical-align: top;\n",
       "    }\n",
       "\n",
       "    .dataframe thead th {\n",
       "        text-align: right;\n",
       "    }\n",
       "</style>\n",
       "<table border=\"1\" class=\"dataframe\">\n",
       "  <thead>\n",
       "    <tr style=\"text-align: right;\">\n",
       "      <th></th>\n",
       "      <th>Ozone</th>\n",
       "      <th>Solar</th>\n",
       "      <th>Wind</th>\n",
       "      <th>Month</th>\n",
       "      <th>Day</th>\n",
       "      <th>Year</th>\n",
       "      <th>Temp</th>\n",
       "    </tr>\n",
       "  </thead>\n",
       "  <tbody>\n",
       "    <tr>\n",
       "      <th>Ozone</th>\n",
       "      <td>1.000000</td>\n",
       "      <td>0.304557</td>\n",
       "      <td>-0.512571</td>\n",
       "      <td>0.128989</td>\n",
       "      <td>-0.021921</td>\n",
       "      <td>NaN</td>\n",
       "      <td>0.606499</td>\n",
       "    </tr>\n",
       "    <tr>\n",
       "      <th>Solar</th>\n",
       "      <td>0.304557</td>\n",
       "      <td>1.000000</td>\n",
       "      <td>-0.065212</td>\n",
       "      <td>-0.099459</td>\n",
       "      <td>-0.151005</td>\n",
       "      <td>NaN</td>\n",
       "      <td>0.260679</td>\n",
       "    </tr>\n",
       "    <tr>\n",
       "      <th>Wind</th>\n",
       "      <td>-0.512571</td>\n",
       "      <td>-0.065212</td>\n",
       "      <td>1.000000</td>\n",
       "      <td>-0.159704</td>\n",
       "      <td>0.044380</td>\n",
       "      <td>NaN</td>\n",
       "      <td>-0.444875</td>\n",
       "    </tr>\n",
       "    <tr>\n",
       "      <th>Month</th>\n",
       "      <td>0.128989</td>\n",
       "      <td>-0.099459</td>\n",
       "      <td>-0.159704</td>\n",
       "      <td>1.000000</td>\n",
       "      <td>0.057536</td>\n",
       "      <td>NaN</td>\n",
       "      <td>0.376382</td>\n",
       "    </tr>\n",
       "    <tr>\n",
       "      <th>Day</th>\n",
       "      <td>-0.021921</td>\n",
       "      <td>-0.151005</td>\n",
       "      <td>0.044380</td>\n",
       "      <td>0.057536</td>\n",
       "      <td>1.000000</td>\n",
       "      <td>NaN</td>\n",
       "      <td>-0.122787</td>\n",
       "    </tr>\n",
       "    <tr>\n",
       "      <th>Year</th>\n",
       "      <td>NaN</td>\n",
       "      <td>NaN</td>\n",
       "      <td>NaN</td>\n",
       "      <td>NaN</td>\n",
       "      <td>NaN</td>\n",
       "      <td>NaN</td>\n",
       "      <td>NaN</td>\n",
       "    </tr>\n",
       "    <tr>\n",
       "      <th>Temp</th>\n",
       "      <td>0.606499</td>\n",
       "      <td>0.260679</td>\n",
       "      <td>-0.444875</td>\n",
       "      <td>0.376382</td>\n",
       "      <td>-0.122787</td>\n",
       "      <td>NaN</td>\n",
       "      <td>1.000000</td>\n",
       "    </tr>\n",
       "  </tbody>\n",
       "</table>\n",
       "</div>"
      ],
      "text/plain": [
       "          Ozone     Solar      Wind     Month       Day  Year      Temp\n",
       "Ozone  1.000000  0.304557 -0.512571  0.128989 -0.021921   NaN  0.606499\n",
       "Solar  0.304557  1.000000 -0.065212 -0.099459 -0.151005   NaN  0.260679\n",
       "Wind  -0.512571 -0.065212  1.000000 -0.159704  0.044380   NaN -0.444875\n",
       "Month  0.128989 -0.099459 -0.159704  1.000000  0.057536   NaN  0.376382\n",
       "Day   -0.021921 -0.151005  0.044380  0.057536  1.000000   NaN -0.122787\n",
       "Year        NaN       NaN       NaN       NaN       NaN   NaN       NaN\n",
       "Temp   0.606499  0.260679 -0.444875  0.376382 -0.122787   NaN  1.000000"
      ]
     },
     "execution_count": 92,
     "metadata": {},
     "output_type": "execute_result"
    }
   ],
   "source": [
    "data_df_1.corr()\n",
    "#calculating correlation of co-efficient for whole data base"
   ]
  },
  {
   "cell_type": "markdown",
   "id": "ef74e7ba",
   "metadata": {},
   "source": [
    "# Dummy Variable\n",
    "##### it used to convert categorical data into numerical data (values between 0 to 1)"
   ]
  },
  {
   "cell_type": "code",
   "execution_count": 93,
   "id": "951f876e",
   "metadata": {},
   "outputs": [],
   "source": [
    "dummy_var = pd.get_dummies(data_df_1, columns = ['Weather'])"
   ]
  },
  {
   "cell_type": "code",
   "execution_count": 94,
   "id": "de1f2677",
   "metadata": {},
   "outputs": [
    {
     "data": {
      "text/html": [
       "<div>\n",
       "<style scoped>\n",
       "    .dataframe tbody tr th:only-of-type {\n",
       "        vertical-align: middle;\n",
       "    }\n",
       "\n",
       "    .dataframe tbody tr th {\n",
       "        vertical-align: top;\n",
       "    }\n",
       "\n",
       "    .dataframe thead th {\n",
       "        text-align: right;\n",
       "    }\n",
       "</style>\n",
       "<table border=\"1\" class=\"dataframe\">\n",
       "  <thead>\n",
       "    <tr style=\"text-align: right;\">\n",
       "      <th></th>\n",
       "      <th>Ozone</th>\n",
       "      <th>Solar</th>\n",
       "      <th>Wind</th>\n",
       "      <th>Month</th>\n",
       "      <th>Day</th>\n",
       "      <th>Year</th>\n",
       "      <th>Temp</th>\n",
       "      <th>Weather_C</th>\n",
       "      <th>Weather_PS</th>\n",
       "      <th>Weather_S</th>\n",
       "    </tr>\n",
       "  </thead>\n",
       "  <tbody>\n",
       "    <tr>\n",
       "      <th>0</th>\n",
       "      <td>41.00</td>\n",
       "      <td>190.00</td>\n",
       "      <td>7</td>\n",
       "      <td>5.0</td>\n",
       "      <td>1</td>\n",
       "      <td>2010</td>\n",
       "      <td>67</td>\n",
       "      <td>0</td>\n",
       "      <td>0</td>\n",
       "      <td>1</td>\n",
       "    </tr>\n",
       "    <tr>\n",
       "      <th>1</th>\n",
       "      <td>36.00</td>\n",
       "      <td>118.00</td>\n",
       "      <td>8</td>\n",
       "      <td>5.0</td>\n",
       "      <td>2</td>\n",
       "      <td>2010</td>\n",
       "      <td>72</td>\n",
       "      <td>1</td>\n",
       "      <td>0</td>\n",
       "      <td>0</td>\n",
       "    </tr>\n",
       "    <tr>\n",
       "      <th>2</th>\n",
       "      <td>12.00</td>\n",
       "      <td>149.00</td>\n",
       "      <td>12</td>\n",
       "      <td>5.0</td>\n",
       "      <td>3</td>\n",
       "      <td>2010</td>\n",
       "      <td>74</td>\n",
       "      <td>0</td>\n",
       "      <td>1</td>\n",
       "      <td>0</td>\n",
       "    </tr>\n",
       "    <tr>\n",
       "      <th>3</th>\n",
       "      <td>18.00</td>\n",
       "      <td>313.00</td>\n",
       "      <td>11</td>\n",
       "      <td>5.0</td>\n",
       "      <td>4</td>\n",
       "      <td>2010</td>\n",
       "      <td>62</td>\n",
       "      <td>0</td>\n",
       "      <td>0</td>\n",
       "      <td>1</td>\n",
       "    </tr>\n",
       "    <tr>\n",
       "      <th>4</th>\n",
       "      <td>41.81</td>\n",
       "      <td>185.36</td>\n",
       "      <td>14</td>\n",
       "      <td>5.0</td>\n",
       "      <td>5</td>\n",
       "      <td>2010</td>\n",
       "      <td>56</td>\n",
       "      <td>0</td>\n",
       "      <td>0</td>\n",
       "      <td>1</td>\n",
       "    </tr>\n",
       "    <tr>\n",
       "      <th>...</th>\n",
       "      <td>...</td>\n",
       "      <td>...</td>\n",
       "      <td>...</td>\n",
       "      <td>...</td>\n",
       "      <td>...</td>\n",
       "      <td>...</td>\n",
       "      <td>...</td>\n",
       "      <td>...</td>\n",
       "      <td>...</td>\n",
       "      <td>...</td>\n",
       "    </tr>\n",
       "    <tr>\n",
       "      <th>152</th>\n",
       "      <td>20.00</td>\n",
       "      <td>223.00</td>\n",
       "      <td>11</td>\n",
       "      <td>9.0</td>\n",
       "      <td>30</td>\n",
       "      <td>2010</td>\n",
       "      <td>68</td>\n",
       "      <td>0</td>\n",
       "      <td>0</td>\n",
       "      <td>1</td>\n",
       "    </tr>\n",
       "    <tr>\n",
       "      <th>153</th>\n",
       "      <td>41.00</td>\n",
       "      <td>190.00</td>\n",
       "      <td>7</td>\n",
       "      <td>5.0</td>\n",
       "      <td>1</td>\n",
       "      <td>2010</td>\n",
       "      <td>67</td>\n",
       "      <td>1</td>\n",
       "      <td>0</td>\n",
       "      <td>0</td>\n",
       "    </tr>\n",
       "    <tr>\n",
       "      <th>154</th>\n",
       "      <td>30.00</td>\n",
       "      <td>193.00</td>\n",
       "      <td>6</td>\n",
       "      <td>9.0</td>\n",
       "      <td>26</td>\n",
       "      <td>2010</td>\n",
       "      <td>70</td>\n",
       "      <td>0</td>\n",
       "      <td>1</td>\n",
       "      <td>0</td>\n",
       "    </tr>\n",
       "    <tr>\n",
       "      <th>155</th>\n",
       "      <td>41.81</td>\n",
       "      <td>145.00</td>\n",
       "      <td>13</td>\n",
       "      <td>9.0</td>\n",
       "      <td>27</td>\n",
       "      <td>2010</td>\n",
       "      <td>77</td>\n",
       "      <td>0</td>\n",
       "      <td>0</td>\n",
       "      <td>1</td>\n",
       "    </tr>\n",
       "    <tr>\n",
       "      <th>157</th>\n",
       "      <td>18.00</td>\n",
       "      <td>131.00</td>\n",
       "      <td>8</td>\n",
       "      <td>9.0</td>\n",
       "      <td>29</td>\n",
       "      <td>2010</td>\n",
       "      <td>76</td>\n",
       "      <td>1</td>\n",
       "      <td>0</td>\n",
       "      <td>0</td>\n",
       "    </tr>\n",
       "  </tbody>\n",
       "</table>\n",
       "<p>157 rows × 10 columns</p>\n",
       "</div>"
      ],
      "text/plain": [
       "     Ozone   Solar  Wind  Month  Day  Year  Temp  Weather_C  Weather_PS  \\\n",
       "0    41.00  190.00     7    5.0    1  2010    67          0           0   \n",
       "1    36.00  118.00     8    5.0    2  2010    72          1           0   \n",
       "2    12.00  149.00    12    5.0    3  2010    74          0           1   \n",
       "3    18.00  313.00    11    5.0    4  2010    62          0           0   \n",
       "4    41.81  185.36    14    5.0    5  2010    56          0           0   \n",
       "..     ...     ...   ...    ...  ...   ...   ...        ...         ...   \n",
       "152  20.00  223.00    11    9.0   30  2010    68          0           0   \n",
       "153  41.00  190.00     7    5.0    1  2010    67          1           0   \n",
       "154  30.00  193.00     6    9.0   26  2010    70          0           1   \n",
       "155  41.81  145.00    13    9.0   27  2010    77          0           0   \n",
       "157  18.00  131.00     8    9.0   29  2010    76          1           0   \n",
       "\n",
       "     Weather_S  \n",
       "0            1  \n",
       "1            0  \n",
       "2            0  \n",
       "3            1  \n",
       "4            1  \n",
       "..         ...  \n",
       "152          1  \n",
       "153          0  \n",
       "154          0  \n",
       "155          1  \n",
       "157          0  \n",
       "\n",
       "[157 rows x 10 columns]"
      ]
     },
     "execution_count": 94,
     "metadata": {},
     "output_type": "execute_result"
    }
   ],
   "source": [
    "dummy_var"
   ]
  },
  {
   "cell_type": "code",
   "execution_count": 95,
   "id": "4786a5e9",
   "metadata": {},
   "outputs": [
    {
     "data": {
      "text/plain": [
       "['S', 'C', 'PS', 'S', 'S', ..., 'S', 'C', 'PS', 'S', 'C']\n",
       "Length: 157\n",
       "Categories (3, object): ['C', 'PS', 'S']"
      ]
     },
     "execution_count": 95,
     "metadata": {},
     "output_type": "execute_result"
    }
   ],
   "source": [
    "data_df_1['Weather'].values"
   ]
  },
  {
   "cell_type": "code",
   "execution_count": 96,
   "id": "7e94a8dc",
   "metadata": {},
   "outputs": [
    {
     "data": {
      "text/plain": [
       "array([[ 41.  , 190.  ,   7.  , ...,   0.  ,   0.  ,   1.  ],\n",
       "       [ 36.  , 118.  ,   8.  , ...,   1.  ,   0.  ,   0.  ],\n",
       "       [ 12.  , 149.  ,  12.  , ...,   0.  ,   1.  ,   0.  ],\n",
       "       ...,\n",
       "       [ 30.  , 193.  ,   6.  , ...,   0.  ,   1.  ,   0.  ],\n",
       "       [ 41.81, 145.  ,  13.  , ...,   0.  ,   0.  ,   1.  ],\n",
       "       [ 18.  , 131.  ,   8.  , ...,   1.  ,   0.  ,   0.  ]])"
      ]
     },
     "execution_count": 96,
     "metadata": {},
     "output_type": "execute_result"
    }
   ],
   "source": [
    "dummy_var.values"
   ]
  },
  {
   "cell_type": "code",
   "execution_count": 97,
   "id": "18774cd9",
   "metadata": {},
   "outputs": [
    {
     "data": {
      "text/plain": [
       "Ozone         float64\n",
       "Solar         float64\n",
       "Wind            int64\n",
       "Month         float64\n",
       "Day             int64\n",
       "Year            int64\n",
       "Temp            int64\n",
       "Weather_C       uint8\n",
       "Weather_PS      uint8\n",
       "Weather_S       uint8\n",
       "dtype: object"
      ]
     },
     "execution_count": 97,
     "metadata": {},
     "output_type": "execute_result"
    }
   ],
   "source": [
    "dummy_var.dtypes"
   ]
  },
  {
   "cell_type": "markdown",
   "id": "10fc9e71",
   "metadata": {},
   "source": [
    "# Featuring Scalling \n",
    "### i) Standardization --> for numeric columns\n",
    "### ii) Normalization --> for categorical columns"
   ]
  },
  {
   "cell_type": "markdown",
   "id": "a2db618a",
   "metadata": {},
   "source": [
    "# Normalization \n",
    "##### used for categorical columns or for mix data\n",
    "##### also know as Min-Max Scalling\n",
    "##### work better with array type of dataframe so import set print options from numpy\n",
    "##### also need to import MinMax Scaler from sklearn.preprocessing"
   ]
  },
  {
   "cell_type": "code",
   "execution_count": 98,
   "id": "edd575f4",
   "metadata": {},
   "outputs": [],
   "source": [
    "from numpy import set_printoptions"
   ]
  },
  {
   "cell_type": "code",
   "execution_count": 99,
   "id": "7ca1c18f",
   "metadata": {},
   "outputs": [],
   "source": [
    "from sklearn.preprocessing import MinMaxScaler"
   ]
  },
  {
   "cell_type": "code",
   "execution_count": 100,
   "id": "f25f83b9",
   "metadata": {},
   "outputs": [],
   "source": [
    "var_array = dummy_var.values\n",
    "#dummy var has categorical data type and we stored all 3 weather columns in dummy var"
   ]
  },
  {
   "cell_type": "code",
   "execution_count": 101,
   "id": "a93d93c5",
   "metadata": {},
   "outputs": [],
   "source": [
    "var_scaler = MinMaxScaler(feature_range=(0, 1))\n",
    "\n",
    "#default feature range is 0 to 1 (min, max)\n",
    "#we can change as per our need\n",
    "#we build a model here"
   ]
  },
  {
   "cell_type": "code",
   "execution_count": 102,
   "id": "7283b4ae",
   "metadata": {},
   "outputs": [],
   "source": [
    "var_rescalerX = var_scaler.fit_transform(var_array[:, 0:5])\n",
    "#deploying Model"
   ]
  },
  {
   "cell_type": "code",
   "execution_count": 103,
   "id": "e748f33d",
   "metadata": {},
   "outputs": [],
   "source": [
    "set_printoptions(precision = 2)\n",
    "#used to print 2 values after decimal point like round method"
   ]
  },
  {
   "cell_type": "code",
   "execution_count": 104,
   "id": "23c94e79",
   "metadata": {},
   "outputs": [
    {
     "name": "stdout",
     "output_type": "stream",
     "text": [
      "[[0.24 0.56 0.32 0.   0.  ]\n",
      " [0.21 0.34 0.37 0.   0.03]\n",
      " [0.07 0.43 0.58 0.   0.07]\n",
      " [0.1  0.94 0.53 0.   0.1 ]\n",
      " [0.24 0.55 0.68 0.   0.13]\n",
      " [0.16 0.55 0.68 0.   0.17]\n",
      " [0.13 0.89 0.37 0.   0.2 ]\n",
      " [0.11 0.28 0.63 0.   0.23]\n",
      " [0.04 0.04 1.   0.   0.27]\n",
      " [0.24 0.57 0.37 0.   0.3 ]\n",
      " [0.04 0.55 0.26 0.   0.33]\n",
      " [0.09 0.76 0.42 0.   0.37]\n",
      " [0.06 0.87 0.42 0.   0.4 ]\n",
      " [0.08 0.82 0.47 0.   0.43]\n",
      " [0.1  0.18 0.63 0.   0.47]\n",
      " [0.08 1.   0.53 0.   0.5 ]\n",
      " [0.2  0.92 0.58 0.   0.53]\n",
      " [0.03 0.22 0.89 0.   0.57]\n",
      " [0.17 0.96 0.53 0.   0.6 ]\n",
      " [0.06 0.11 0.42 0.   0.63]\n",
      " [0.   0.   0.42 0.   0.67]\n",
      " [0.06 0.96 0.79 0.   0.7 ]\n",
      " [0.02 0.06 0.42 0.   0.73]\n",
      " [0.19 0.26 0.58 1.   0.77]\n",
      " [0.24 0.18 0.79 0.   0.8 ]\n",
      " [0.24 0.79 0.68 0.   0.83]\n",
      " [0.24 0.55 0.37 0.   0.87]\n",
      " [0.13 0.02 0.58 0.   0.9 ]\n",
      " [0.26 0.75 0.68 0.   0.93]\n",
      " [0.68 0.66 0.21 0.   0.97]\n",
      " [0.22 0.83 0.32 0.   1.  ]\n",
      " [0.24 0.85 0.37 0.25 0.  ]\n",
      " [0.24 0.86 0.42 0.25 0.03]\n",
      " [0.24 0.72 0.79 0.25 0.07]\n",
      " [0.24 0.55 0.42 0.25 0.1 ]\n",
      " [0.24 0.65 0.37 0.25 0.13]\n",
      " [0.24 0.79 0.68 0.25 0.17]\n",
      " [0.17 0.37 0.42 0.25 0.2 ]\n",
      " [0.24 0.81 0.26 0.25 0.23]\n",
      " [0.42 0.87 0.63 0.25 0.27]\n",
      " [0.23 0.97 0.53 0.25 0.3 ]\n",
      " [0.24 0.77 0.47 0.25 0.33]\n",
      " [0.24 0.74 0.42 0.25 0.37]\n",
      " [0.13 0.43 0.37 0.25 0.4 ]\n",
      " [0.24 0.99 0.63 0.25 0.43]\n",
      " [0.24 0.96 0.53 0.25 0.47]\n",
      " [0.12 0.56 0.68 0.25 0.5 ]\n",
      " [0.22 0.85 1.   0.25 0.53]\n",
      " [0.11 0.09 0.42 0.25 0.57]\n",
      " [0.07 0.35 0.53 0.25 0.6 ]\n",
      " [0.07 0.4  0.47 0.25 0.63]\n",
      " [0.24 0.44 0.26 0.25 0.67]\n",
      " [0.24 0.16 0.   0.25 0.7 ]\n",
      " [0.24 0.26 0.16 0.25 0.73]\n",
      " [0.24 0.74 0.26 0.25 0.77]\n",
      " [0.24 0.39 0.37 0.25 0.8 ]\n",
      " [0.24 0.37 0.37 0.25 0.83]\n",
      " [0.24 0.12 0.47 0.25 0.87]\n",
      " [0.24 0.28 0.53 0.25 0.9 ]\n",
      " [0.24 0.07 0.68 0.25 0.93]\n",
      " [0.24 0.4  0.37 0.25 0.97]\n",
      " [0.8  0.8  0.16 0.5  0.  ]\n",
      " [0.29 0.74 0.42 0.5  0.03]\n",
      " [0.19 0.7  0.42 0.5  0.07]\n",
      " [0.24 0.29 0.47 0.5  0.1 ]\n",
      " [0.38 0.51 0.16 0.5  0.13]\n",
      " [0.23 0.94 0.47 0.5  0.17]\n",
      " [0.46 0.82 0.21 0.5  0.2 ]\n",
      " [0.57 0.8  0.26 0.5  0.23]\n",
      " [0.57 0.81 0.21 0.5  0.27]\n",
      " [0.5  0.51 0.32 0.5  0.3 ]\n",
      " [0.24 0.4  0.37 0.5  0.33]\n",
      " [0.05 0.79 0.68 0.5  0.37]\n",
      " [0.16 0.51 0.68 0.5  0.4 ]\n",
      " [0.24 0.87 0.68 0.5  0.43]\n",
      " [0.04 0.13 0.68 0.5  0.47]\n",
      " [0.28 0.77 0.26 0.5  0.5 ]\n",
      " [0.2  0.82 0.47 0.5  0.53]\n",
      " [0.36 0.85 0.26 0.5  0.57]\n",
      " [0.47 0.55 0.21 0.5  0.6 ]\n",
      " [0.37 0.65 0.53 0.5  0.63]\n",
      " [0.09 0.   0.26 0.5  0.67]\n",
      " [0.24 0.77 0.42 0.5  0.7 ]\n",
      " [0.24 0.88 0.53 0.5  0.73]\n",
      " [0.47 0.88 0.37 0.5  0.77]\n",
      " [0.64 0.66 0.37 0.5  0.8 ]\n",
      " [0.11 0.23 0.37 0.5  0.83]\n",
      " [0.31 0.23 0.58 0.5  0.87]\n",
      " [0.49 0.63 0.32 0.5  0.9 ]\n",
      " [0.29 0.82 0.32 0.5  0.93]\n",
      " [0.38 0.75 0.32 0.5  0.97]\n",
      " [0.35 0.76 0.42 0.5  1.  ]\n",
      " [0.23 0.23 0.26 0.75 0.  ]\n",
      " [0.05 0.05 0.63 0.75 0.03]\n",
      " [0.09 0.21 0.32 0.75 0.07]\n",
      " [0.46 0.55 0.26 0.75 0.1 ]\n",
      " [0.2  0.55 0.32 0.75 0.13]\n",
      " [0.39 0.55 0.16 0.75 0.17]\n",
      " [0.72 0.76 0.16 0.75 0.2 ]\n",
      " [0.53 0.68 0.47 0.75 0.23]\n",
      " [0.65 0.61 0.37 0.75 0.27]\n",
      " [0.24 0.66 0.37 0.75 0.3 ]\n",
      " [0.24 0.4  0.53 0.75 0.33]\n",
      " [0.26 0.57 0.53 0.75 0.37]\n",
      " [0.16 0.81 0.53 0.75 0.4 ]\n",
      " [0.38 0.46 0.42 0.75 0.43]\n",
      " [0.24 0.17 0.53 0.75 0.47]\n",
      " [0.13 0.2  0.47 0.75 0.5 ]\n",
      " [0.35 0.13 0.26 0.75 0.53]\n",
      " [0.13 0.33 0.32 0.75 0.57]\n",
      " [0.18 0.72 0.47 0.75 0.6 ]\n",
      " [0.26 0.56 0.47 0.75 0.63]\n",
      " [0.12 0.77 0.74 0.75 0.67]\n",
      " [0.05 0.09 0.68 0.75 0.7 ]\n",
      " [0.24 0.76 0.58 0.75 0.73]\n",
      " [0.26 0.63 0.42 0.75 0.77]\n",
      " [1.   0.71 0.11 0.75 0.8 ]\n",
      " [0.43 0.64 0.37 0.75 0.83]\n",
      " [0.24 0.45 0.21 0.75 0.87]\n",
      " [0.45 0.6  0.42 0.75 0.9 ]\n",
      " [0.7  0.67 0.05 0.75 0.93]\n",
      " [0.5  0.7  0.26 0.75 0.97]\n",
      " [0.5  0.55 0.26 0.75 1.  ]\n",
      " [0.57 0.49 0.26 1.   0.  ]\n",
      " [0.46 0.58 0.21 1.   0.03]\n",
      " [0.43 0.54 0.05 1.   0.07]\n",
      " [0.54 0.56 0.16 1.   0.1 ]\n",
      " [0.28 0.27 0.32 1.   0.13]\n",
      " [0.19 0.26 0.74 1.   0.17]\n",
      " [0.11 0.75 0.47 1.   0.2 ]\n",
      " [0.13 0.65 0.47 1.   0.23]\n",
      " [0.12 0.68 0.47 1.   0.27]\n",
      " [0.14 0.77 0.42 1.   0.3 ]\n",
      " [0.26 0.7  0.68 1.   0.33]\n",
      " [0.12 0.77 0.74 1.   0.37]\n",
      " [0.16 0.71 0.26 1.   0.4 ]\n",
      " [0.05 0.05 0.47 1.   0.43]\n",
      " [0.07 0.32 0.53 1.   0.47]\n",
      " [0.27 0.7  0.26 1.   0.5 ]\n",
      " [0.1  0.66 0.63 1.   0.53]\n",
      " [0.07 0.06 0.47 1.   0.57]\n",
      " [0.14 0.71 0.47 1.   0.6 ]\n",
      " [0.09 0.59 0.37 1.   0.63]\n",
      " [0.07 0.71 0.58 1.   0.67]\n",
      " [0.13 0.02 0.42 1.   0.7 ]\n",
      " [0.21 0.4  0.47 1.   0.73]\n",
      " [0.04 0.13 0.47 1.   0.77]\n",
      " [0.08 0.04 0.79 1.   0.8 ]\n",
      " [0.17 0.57 0.26 1.   0.83]\n",
      " [0.24 0.42 0.63 1.   0.87]\n",
      " [0.08 0.56 0.68 1.   0.9 ]\n",
      " [0.1  0.38 0.37 1.   0.93]\n",
      " [0.11 0.66 0.53 1.   0.97]\n",
      " [0.24 0.56 0.32 0.   0.  ]\n",
      " [0.17 0.57 0.26 1.   0.83]\n",
      " [0.24 0.42 0.63 1.   0.87]\n",
      " [0.1  0.38 0.37 1.   0.93]]\n"
     ]
    }
   ],
   "source": [
    "print(var_rescalerX[:, 0:5])"
   ]
  },
  {
   "cell_type": "markdown",
   "id": "0e0d8c69",
   "metadata": {},
   "source": [
    "# Standardization"
   ]
  },
  {
   "cell_type": "code",
   "execution_count": 105,
   "id": "85396497",
   "metadata": {},
   "outputs": [],
   "source": [
    "from sklearn.preprocessing import StandardScaler"
   ]
  },
  {
   "cell_type": "code",
   "execution_count": 106,
   "id": "2301cfdc",
   "metadata": {},
   "outputs": [],
   "source": [
    "var_array2 = data_df_1.values"
   ]
  },
  {
   "cell_type": "code",
   "execution_count": 107,
   "id": "6f106a54",
   "metadata": {},
   "outputs": [
    {
     "data": {
      "text/plain": [
       "array([[41.0, 190.0, 7, ..., 2010, 67, 'S'],\n",
       "       [36.0, 118.0, 8, ..., 2010, 72, 'C'],\n",
       "       [12.0, 149.0, 12, ..., 2010, 74, 'PS'],\n",
       "       ...,\n",
       "       [30.0, 193.0, 6, ..., 2010, 70, 'PS'],\n",
       "       [41.81, 145.0, 13, ..., 2010, 77, 'S'],\n",
       "       [18.0, 131.0, 8, ..., 2010, 76, 'C']], dtype=object)"
      ]
     },
     "execution_count": 107,
     "metadata": {},
     "output_type": "execute_result"
    }
   ],
   "source": [
    "var_array2"
   ]
  },
  {
   "cell_type": "code",
   "execution_count": 108,
   "id": "864b9450",
   "metadata": {},
   "outputs": [],
   "source": [
    "var_array2 = data_df_1.drop(['Weather'], axis = 1)\n",
    "#here we drop the weather column because its categorical and contains char values"
   ]
  },
  {
   "cell_type": "code",
   "execution_count": 109,
   "id": "4fe67e00",
   "metadata": {
    "scrolled": true
   },
   "outputs": [],
   "source": [
    "var_scaler = StandardScaler().fit(var_array2) #model Building"
   ]
  },
  {
   "cell_type": "code",
   "execution_count": 110,
   "id": "ab89b9fd",
   "metadata": {},
   "outputs": [],
   "source": [
    "var_rescaleX = var_scaler.transform(var_array2) #model deployment"
   ]
  },
  {
   "cell_type": "code",
   "execution_count": 111,
   "id": "6f1c5416",
   "metadata": {},
   "outputs": [],
   "source": [
    "set_printoptions(precision = 2)"
   ]
  },
  {
   "cell_type": "code",
   "execution_count": 112,
   "id": "425bcd67",
   "metadata": {},
   "outputs": [
    {
     "name": "stdout",
     "output_type": "stream",
     "text": [
      "[[-2.87e-02  5.34e-02 -7.08e-01 -1.43e+00 -1.67e+00]\n",
      " [-2.05e-01 -7.77e-01 -4.19e-01 -1.43e+00 -1.56e+00]\n",
      " [-1.05e+00 -4.19e-01  7.35e-01 -1.43e+00 -1.45e+00]\n",
      " [-8.41e-01  1.47e+00  4.47e-01 -1.43e+00 -1.33e+00]\n",
      " [-1.37e-04 -7.34e-05  1.31e+00 -1.43e+00 -1.22e+00]\n",
      " [-4.88e-01 -7.34e-05  1.31e+00 -1.43e+00 -1.11e+00]\n",
      " [-6.64e-01  1.31e+00 -4.19e-01 -1.43e+00 -9.98e-01]\n",
      " [-8.06e-01 -9.96e-01  1.02e+00 -1.43e+00 -8.86e-01]\n",
      " [-1.19e+00 -1.92e+00  3.04e+00 -1.43e+00 -7.75e-01]\n",
      " [-1.37e-04  9.96e-02 -4.19e-01 -1.43e+00 -6.63e-01]\n",
      " [-1.23e+00 -7.34e-05 -9.96e-01 -1.43e+00 -5.51e-01]\n",
      " [-9.12e-01  8.14e-01 -1.31e-01 -1.43e+00 -4.39e-01]\n",
      " [-1.09e+00  1.21e+00 -1.31e-01 -1.43e+00 -3.28e-01]\n",
      " [-9.82e-01  1.02e+00  1.58e-01 -1.43e+00 -2.16e-01]\n",
      " [-8.41e-01 -1.39e+00  1.02e+00 -1.43e+00 -1.04e-01]\n",
      " [-9.82e-01  1.71e+00  4.47e-01 -1.43e+00  7.83e-03]\n",
      " [-2.76e-01  1.40e+00  7.35e-01 -1.43e+00  1.20e-01]\n",
      " [-1.26e+00 -1.24e+00  2.47e+00 -1.43e+00  2.31e-01]\n",
      " [-4.17e-01  1.58e+00  4.47e-01 -1.43e+00  3.43e-01]\n",
      " [-1.09e+00 -1.63e+00 -1.31e-01 -1.43e+00  4.55e-01]\n",
      " [-1.44e+00 -2.05e+00 -1.31e-01 -1.43e+00  5.67e-01]\n",
      " [-1.09e+00  1.55e+00  1.89e+00 -1.43e+00  6.79e-01]\n",
      " [-1.34e+00 -1.85e+00 -1.31e-01 -1.43e+00  7.90e-01]\n",
      " [-3.47e-01 -1.08e+00  7.35e-01  1.37e+00  9.02e-01]\n",
      " [-1.37e-04 -1.38e+00  1.89e+00 -1.43e+00  1.01e+00]\n",
      " [-1.37e-04  9.30e-01  1.31e+00 -1.43e+00  1.13e+00]\n",
      " [-1.37e-04 -7.34e-05 -4.19e-01 -1.43e+00  1.24e+00]\n",
      " [-6.64e-01 -1.99e+00  7.35e-01 -1.43e+00  1.35e+00]\n",
      " [ 1.13e-01  7.68e-01  1.31e+00 -1.43e+00  1.46e+00]\n",
      " [ 2.58e+00  4.34e-01 -1.28e+00 -1.43e+00  1.57e+00]\n",
      " [-1.70e-01  1.08e+00 -7.08e-01 -1.43e+00  1.68e+00]\n",
      " [-1.37e-04  1.16e+00 -4.19e-01 -7.31e-01 -1.67e+00]\n",
      " [-1.37e-04  1.17e+00 -1.31e-01 -7.31e-01 -1.56e+00]\n",
      " [-1.37e-04  6.53e-01  1.89e+00 -7.31e-01 -1.45e+00]\n",
      " [-1.37e-04  7.31e-03 -1.31e-01 -7.31e-01 -1.33e+00]\n",
      " [-1.37e-04  3.99e-01 -4.19e-01 -7.31e-01 -1.22e+00]\n",
      " [-1.37e-04  9.07e-01  1.31e+00 -7.31e-01 -1.11e+00]\n",
      " [-4.53e-01 -6.73e-01 -1.31e-01 -7.31e-01 -9.98e-01]\n",
      " [-1.37e-04  1.01e+00 -9.96e-01 -7.31e-01 -8.86e-01]\n",
      " [ 1.03e+00  1.22e+00  1.02e+00 -7.31e-01 -7.75e-01]\n",
      " [-9.94e-02  1.59e+00  4.47e-01 -7.31e-01 -6.63e-01]\n",
      " [-1.37e-04  8.49e-01  1.58e-01 -7.31e-01 -5.51e-01]\n",
      " [-1.37e-04  7.45e-01 -1.31e-01 -7.31e-01 -4.39e-01]\n",
      " [-6.64e-01 -4.31e-01 -4.19e-01 -7.31e-01 -3.28e-01]\n",
      " [-1.37e-04  1.69e+00  1.02e+00 -7.31e-01 -2.16e-01]\n",
      " [-1.37e-04  1.58e+00  4.47e-01 -7.31e-01 -1.04e-01]\n",
      " [-7.35e-01  6.50e-02  1.31e+00 -7.31e-01  7.83e-03]\n",
      " [-1.70e-01  1.14e+00  3.04e+00 -7.31e-01  1.20e-01]\n",
      " [-7.70e-01 -1.71e+00 -1.31e-01 -7.31e-01  2.31e-01]\n",
      " [-1.05e+00 -7.54e-01  4.47e-01 -7.31e-01  3.43e-01]\n",
      " [-1.02e+00 -5.58e-01  1.58e-01 -7.31e-01  4.55e-01]\n",
      " [-1.37e-04 -4.08e-01 -9.96e-01 -7.31e-01  5.67e-01]\n",
      " [-1.37e-04 -1.46e+00 -2.44e+00 -7.31e-01  6.79e-01]\n",
      " [-1.37e-04 -1.09e+00 -1.57e+00 -7.31e-01  7.90e-01]\n",
      " [-1.37e-04  7.45e-01 -9.96e-01 -7.31e-01  9.02e-01]\n",
      " [-1.37e-04 -5.81e-01 -4.19e-01 -7.31e-01  1.01e+00]\n",
      " [-1.37e-04 -6.73e-01 -4.19e-01 -7.31e-01  1.13e+00]\n",
      " [-1.37e-04 -1.60e+00  1.58e-01 -7.31e-01  1.24e+00]\n",
      " [-1.37e-04 -1.01e+00  4.47e-01 -7.31e-01  1.35e+00]\n",
      " [-1.37e-04 -1.78e+00  1.31e+00 -7.31e-01  1.46e+00]\n",
      " [-1.37e-04 -5.46e-01 -4.19e-01 -7.31e-01  1.57e+00]\n",
      " [ 3.29e+00  9.64e-01 -1.57e+00 -3.12e-02 -1.67e+00]\n",
      " [ 2.54e-01  7.22e-01 -1.31e-01 -3.12e-02 -1.56e+00]\n",
      " [-3.47e-01  5.84e-01 -1.31e-01 -3.12e-02 -1.45e+00]\n",
      " [-1.37e-04 -9.73e-01  1.58e-01 -3.12e-02 -1.33e+00]\n",
      " [ 7.84e-01 -1.20e-01 -1.57e+00 -3.12e-02 -1.22e+00]\n",
      " [-6.41e-02  1.48e+00  1.58e-01 -3.12e-02 -1.11e+00]\n",
      " [ 1.24e+00  1.05e+00 -1.28e+00 -3.12e-02 -9.98e-01]\n",
      " [ 1.95e+00  9.41e-01 -9.96e-01 -3.12e-02 -8.86e-01]\n",
      " [ 1.95e+00  9.99e-01 -1.28e+00 -3.12e-02 -7.75e-01]\n",
      " [ 1.53e+00 -1.20e-01 -7.08e-01 -3.12e-02 -6.63e-01]\n",
      " [-1.37e-04 -5.35e-01 -4.19e-01 -3.12e-02 -5.51e-01]\n",
      " [-1.12e+00  9.07e-01  1.31e+00 -3.12e-02 -4.39e-01]\n",
      " [-5.23e-01 -1.20e-01  1.31e+00 -3.12e-02 -3.28e-01]\n",
      " [-1.37e-04  1.22e+00  1.31e+00 -3.12e-02 -2.16e-01]\n",
      " [-1.23e+00 -1.58e+00  1.31e+00 -3.12e-02 -1.04e-01]\n",
      " [ 2.18e-01  8.61e-01 -9.96e-01 -3.12e-02  7.83e-03]\n",
      " [-2.41e-01  1.02e+00  1.58e-01 -3.12e-02  1.20e-01]\n",
      " [ 6.78e-01  1.15e+00 -9.96e-01 -3.12e-02  2.31e-01]\n",
      " [ 1.31e+00  1.88e-02 -1.28e+00 -3.12e-02  3.43e-01]\n",
      " [ 7.48e-01  3.99e-01  4.47e-01 -3.12e-02  4.55e-01]\n",
      " [-9.12e-01 -2.06e+00 -9.96e-01 -3.12e-02  5.67e-01]\n",
      " [-1.37e-04  8.38e-01 -1.31e-01 -3.12e-02  6.79e-01]\n",
      " [-1.37e-04  1.26e+00  4.47e-01 -3.12e-02  7.90e-01]\n",
      " [ 1.35e+00  1.25e+00 -4.19e-01 -3.12e-02  9.02e-01]\n",
      " [ 2.34e+00  4.34e-01 -4.19e-01 -3.12e-02  1.01e+00]\n",
      " [-7.70e-01 -1.20e+00 -4.19e-01 -3.12e-02  1.13e+00]\n",
      " [ 3.60e-01 -1.19e+00  7.35e-01 -3.12e-02  1.24e+00]\n",
      " [ 1.42e+00  3.19e-01 -7.08e-01 -3.12e-02  1.35e+00]\n",
      " [ 2.89e-01  1.03e+00 -7.08e-01 -3.12e-02  1.46e+00]\n",
      " [ 7.84e-01  7.80e-01 -7.08e-01 -3.12e-02  1.57e+00]\n",
      " [ 6.07e-01  7.91e-01 -1.31e-01 -3.12e-02  1.68e+00]\n",
      " [-9.94e-02 -1.18e+00 -9.96e-01  6.68e-01 -1.67e+00]\n",
      " [-1.16e+00 -1.86e+00  1.02e+00  6.68e-01 -1.56e+00]\n",
      " [-9.12e-01 -1.25e+00 -7.08e-01  6.68e-01 -1.45e+00]\n",
      " [ 1.28e+00 -7.34e-05 -9.96e-01  6.68e-01 -1.33e+00]\n",
      " [-2.41e-01 -7.34e-05 -7.08e-01  6.68e-01 -1.22e+00]\n",
      " [ 8.54e-01 -7.34e-05 -1.57e+00  6.68e-01 -1.11e+00]\n",
      " [ 2.83e+00  8.03e-01 -1.57e+00  6.68e-01 -9.98e-01]\n",
      " [ 1.67e+00  5.03e-01  1.58e-01  6.68e-01 -8.86e-01]\n",
      " [ 2.41e+00  2.49e-01 -4.19e-01  6.68e-01 -7.75e-01]\n",
      " [-1.37e-04  4.22e-01 -4.19e-01  6.68e-01 -6.63e-01]\n",
      " [-1.37e-04 -5.58e-01  4.47e-01  6.68e-01 -5.51e-01]\n",
      " [ 7.72e-02  7.65e-02  4.47e-01  6.68e-01 -4.39e-01]\n",
      " [-4.88e-01  1.01e+00  4.47e-01  6.68e-01 -3.28e-01]\n",
      " [ 8.19e-01 -3.27e-01 -1.31e-01  6.68e-01 -2.16e-01]\n",
      " [-1.37e-04 -1.40e+00  4.47e-01  6.68e-01 -1.04e-01]\n",
      " [-7.00e-01 -1.32e+00  1.58e-01  6.68e-01  7.83e-03]\n",
      " [ 6.07e-01 -1.55e+00 -9.96e-01  6.68e-01  1.20e-01]\n",
      " [-6.64e-01 -8.11e-01 -7.08e-01  6.68e-01  2.31e-01]\n",
      " [-3.82e-01  6.76e-01  1.58e-01  6.68e-01  3.43e-01]\n",
      " [ 7.72e-02  5.34e-02  1.58e-01  6.68e-01  4.55e-01]\n",
      " [-7.35e-01  8.49e-01  1.60e+00  6.68e-01  5.67e-01]\n",
      " [-1.16e+00 -1.72e+00  1.31e+00  6.68e-01  6.79e-01]\n",
      " [-1.37e-04  8.03e-01  7.35e-01  6.68e-01  7.90e-01]\n",
      " [ 1.13e-01  3.07e-01 -1.31e-01  6.68e-01  9.02e-01]\n",
      " [ 4.46e+00  6.07e-01 -1.86e+00  6.68e-01  1.01e+00]\n",
      " [ 1.10e+00  3.42e-01 -4.19e-01  6.68e-01  1.13e+00]\n",
      " [-1.37e-04 -3.73e-01 -1.28e+00  6.68e-01  1.24e+00]\n",
      " [ 1.21e+00  2.03e-01 -1.31e-01  6.68e-01  1.35e+00]\n",
      " [ 2.69e+00  4.57e-01 -2.15e+00  6.68e-01  1.46e+00]\n",
      " [ 1.49e+00  5.95e-01 -9.96e-01  6.68e-01  1.57e+00]\n",
      " [ 1.53e+00  3.04e-02 -9.96e-01  6.68e-01  1.68e+00]\n",
      " [ 1.91e+00 -2.12e-01 -9.96e-01  1.37e+00 -1.67e+00]\n",
      " [ 1.28e+00  1.34e-01 -1.28e+00  1.37e+00 -1.56e+00]\n",
      " [ 1.10e+00 -2.73e-02 -2.15e+00  1.37e+00 -1.45e+00]\n",
      " [ 1.74e+00  4.19e-02 -1.57e+00  1.37e+00 -1.33e+00]\n",
      " [ 1.83e-01 -1.04e+00 -7.08e-01  1.37e+00 -1.22e+00]\n",
      " [-3.47e-01 -1.08e+00  1.60e+00  1.37e+00 -1.11e+00]\n",
      " [-7.70e-01  7.68e-01  1.58e-01  1.37e+00 -9.98e-01]\n",
      " [-6.64e-01  3.99e-01  1.58e-01  1.37e+00 -8.86e-01]\n",
      " [-7.35e-01  5.15e-01  1.58e-01  1.37e+00 -7.75e-01]\n",
      " [-6.29e-01  8.49e-01 -1.31e-01  1.37e+00 -6.63e-01]\n",
      " [ 7.72e-02  5.84e-01  1.31e+00  1.37e+00 -5.51e-01]\n",
      " [-7.35e-01  8.49e-01  1.60e+00  1.37e+00 -4.39e-01]\n",
      " [-4.88e-01  6.07e-01 -9.96e-01  1.37e+00 -3.28e-01]\n",
      " [-1.16e+00 -1.86e+00  1.58e-01  1.37e+00 -2.16e-01]\n",
      " [-1.02e+00 -8.46e-01  4.47e-01  1.37e+00 -1.04e-01]\n",
      " [ 1.48e-01  5.95e-01 -9.96e-01  1.37e+00  7.83e-03]\n",
      " [-8.41e-01  4.45e-01  1.02e+00  1.37e+00  1.20e-01]\n",
      " [-1.02e+00 -1.83e+00  1.58e-01  1.37e+00  2.31e-01]\n",
      " [-6.29e-01  6.07e-01  1.58e-01  1.37e+00  3.43e-01]\n",
      " [-9.12e-01  1.80e-01 -4.19e-01  1.37e+00  4.55e-01]\n",
      " [-1.02e+00  6.07e-01  7.35e-01  1.37e+00  5.67e-01]\n",
      " [-6.64e-01 -1.98e+00 -1.31e-01  1.37e+00  6.79e-01]\n",
      " [-2.05e-01 -5.35e-01  1.58e-01  1.37e+00  7.90e-01]\n",
      " [-1.23e+00 -1.57e+00  1.58e-01  1.37e+00  9.02e-01]\n",
      " [-9.82e-01 -1.91e+00  1.89e+00  1.37e+00  1.01e+00]\n",
      " [-4.17e-01  8.80e-02 -9.96e-01  1.37e+00  1.13e+00]\n",
      " [-1.37e-04 -4.65e-01  1.02e+00  1.37e+00  1.24e+00]\n",
      " [-9.82e-01  6.50e-02  1.31e+00  1.37e+00  1.35e+00]\n",
      " [-8.41e-01 -6.27e-01 -4.19e-01  1.37e+00  1.46e+00]\n",
      " [-7.70e-01  4.34e-01  4.47e-01  1.37e+00  1.57e+00]\n",
      " [-2.87e-02  5.34e-02 -7.08e-01 -1.43e+00 -1.67e+00]\n",
      " [-4.17e-01  8.80e-02 -9.96e-01  1.37e+00  1.13e+00]\n",
      " [-1.37e-04 -4.65e-01  1.02e+00  1.37e+00  1.24e+00]\n",
      " [-8.41e-01 -6.27e-01 -4.19e-01  1.37e+00  1.46e+00]]\n"
     ]
    }
   ],
   "source": [
    "print(var_rescaleX[:, 0:5])"
   ]
  },
  {
   "cell_type": "code",
   "execution_count": null,
   "id": "4e744a43",
   "metadata": {},
   "outputs": [],
   "source": []
  }
 ],
 "metadata": {
  "kernelspec": {
   "display_name": "Python 3",
   "language": "python",
   "name": "python3"
  },
  "language_info": {
   "codemirror_mode": {
    "name": "ipython",
    "version": 3
   },
   "file_extension": ".py",
   "mimetype": "text/x-python",
   "name": "python",
   "nbconvert_exporter": "python",
   "pygments_lexer": "ipython3",
   "version": "3.8.8"
  }
 },
 "nbformat": 4,
 "nbformat_minor": 5
}
